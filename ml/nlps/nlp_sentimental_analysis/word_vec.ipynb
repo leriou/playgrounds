{
 "cells": [
  {
   "cell_type": "markdown",
   "metadata": {},
   "source": [
    "先将文本预处理到文件， 分词到文本中"
   ]
  },
  {
   "cell_type": "code",
   "execution_count": null,
   "metadata": {
    "tags": []
   },
   "outputs": [],
   "source": [
    "import pandas as pd\n",
    "import numpy as np\n",
    "\n",
    "model_path = \"../models/w2v.model\"\n",
    "\n",
    "content = pd.read_csv(\"../../datasets/amazon.csv\")\n",
    "content.head()"
   ]
  },
  {
   "cell_type": "markdown",
   "metadata": {},
   "source": [
    "# 词向量处理"
   ]
  },
  {
   "cell_type": "code",
   "execution_count": null,
   "metadata": {},
   "outputs": [],
   "source": [
    "import gensim\n",
    "from gensim.models import word2vec\n",
    "from gensim.test.utils import datapath\n",
    "from gensim import utils\n",
    "\n",
    "class MyCorpus(object):\n",
    "    def __iter__(self):\n",
    "        for line in content[\"reviewText\"]:\n",
    "            yield utils.simple_preprocess(line)\n",
    "\n",
    "sentences = MyCorpus()\n",
    "model = gensim.models.Word2Vec(sentences,sg=1,size=100,\n",
    "window=5,min_count=1,\n",
    "negative=3,sample=0.001,\n",
    "hs=1,workers=4)\n",
    "model.save(model_path)\n",
    "# gensim.models.Word2Vec.load(model_path)\n",
    "print(\"done\")"
   ]
  },
  {
   "cell_type": "code",
   "execution_count": null,
   "metadata": {
    "tags": []
   },
   "outputs": [],
   "source": [
    "# for i,j in enumerate(model.wv.vocab):\n",
    "#     if i > 10:\n",
    "#         break\n",
    "    # print(i, j)\n",
    "    \n",
    "print(model.wv[\"this\"])"
   ]
  },
  {
   "cell_type": "code",
   "execution_count": null,
   "metadata": {},
   "outputs": [],
   "source": [
    "print(model.wv.most_similar(\"this\"))"
   ]
  },
  {
   "cell_type": "code",
   "execution_count": null,
   "metadata": {},
   "outputs": [],
   "source": [
    "sentence = \"this\"\n",
    "def sentence2vec(content):\n",
    "    tmp = np.zeros(100)\n",
    "    for w in content.split(\" \"):\n",
    "        tmp += model.wv[w]\n",
    "    return tmp\n",
    "print(sentence2vec(sentence))"
   ]
  },
  {
   "cell_type": "code",
   "execution_count": null,
   "metadata": {},
   "outputs": [],
   "source": []
  }
 ],
 "metadata": {
  "interpreter": {
   "hash": "b0fa6594d8f4cbf19f97940f81e996739fb7646882a419484c72d19e05852a7e"
  },
  "kernelspec": {
   "display_name": "Python 3 (ipykernel)",
   "language": "python",
   "name": "python3"
  },
  "language_info": {
   "codemirror_mode": {
    "name": "ipython",
    "version": 3
   },
   "file_extension": ".py",
   "mimetype": "text/x-python",
   "name": "python",
   "nbconvert_exporter": "python",
   "pygments_lexer": "ipython3",
   "version": "3.9.8"
  }
 },
 "nbformat": 4,
 "nbformat_minor": 4
}
