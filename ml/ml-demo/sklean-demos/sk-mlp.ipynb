{
 "cells": [
  {
   "cell_type": "code",
   "execution_count": 55,
   "metadata": {},
   "outputs": [
    {
     "name": "stderr",
     "output_type": "stream",
     "text": [
      "/Users/leriou/Library/Python/3.8/lib/python/site-packages/sklearn/neural_network/_multilayer_perceptron.py:692: ConvergenceWarning: Stochastic Optimizer: Maximum iterations (300) reached and the optimization hasn't converged yet.\n",
      "  warnings.warn(\n"
     ]
    },
    {
     "data": {
      "text/plain": [
       "array([3])"
      ]
     },
     "execution_count": 55,
     "metadata": {},
     "output_type": "execute_result"
    }
   ],
   "source": [
    "from sklearn import neural_network \n",
    "\n",
    "#  \n",
    "X = [\n",
    "     [1, 2, 3, 4, 5, 6],\n",
    "     [5, 40, 31, 19, 8, 7],\n",
    "     [40, 31, 19, 8, 7, 28],\n",
    "     [8, 7, 9, 28, 37, 55],\n",
    "     [6, 14, 32, 48, 55, 45],\n",
    "     [11, 23, 37, 9, 58, 45],\n",
    "     [14, 6, 7, 33, 40, 45],\n",
    "     [31, 27, 8, 7, 9, 28],\n",
    "     [5, 40, 31, 27, 8, 7],\n",
    "     [31, 27, 8, 7, 9, 28],\n",
    "     [5, 28, 31, 27, 8, 41],\n",
    "     [41, 1, 19, 21, 56, 27],\n",
    "     [26, 47, 7, 41, 1, 28]\n",
    "     ]\n",
    "y = [4,1,1,4,3,3,4,2,1,2,4,2,3]\n",
    "\n",
    "clf = neural_network.MLPClassifier(\n",
    "     hidden_layer_sizes=4, \n",
    "     activation=\"relu\",\n",
    "     max_iter=300\n",
    "     )\n",
    "clf.fit(X,y)\n",
    "clf.predict([[5, 40, 31, 27, 8, 45]])"
   ]
  },
  {
   "cell_type": "markdown",
   "metadata": {},
   "source": []
  },
  {
   "cell_type": "code",
   "execution_count": null,
   "metadata": {},
   "outputs": [],
   "source": []
  }
 ],
 "metadata": {
  "interpreter": {
   "hash": "31f2aee4e71d21fbe5cf8b01ff0e069b9275f58929596ceb00d14d90e3e16cd6"
  },
  "kernelspec": {
   "display_name": "Python 3 (ipykernel)",
   "language": "python",
   "name": "python3"
  },
  "language_info": {
   "codemirror_mode": {
    "name": "ipython",
    "version": 3
   },
   "file_extension": ".py",
   "mimetype": "text/x-python",
   "name": "python",
   "nbconvert_exporter": "python",
   "pygments_lexer": "ipython3",
   "version": "3.8.9"
  },
  "widgets": {
   "application/vnd.jupyter.widget-state+json": {
    "state": {},
    "version_major": 2,
    "version_minor": 0
   }
  }
 },
 "nbformat": 4,
 "nbformat_minor": 4
}
