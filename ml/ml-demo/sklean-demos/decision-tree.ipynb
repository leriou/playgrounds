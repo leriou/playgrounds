{
 "cells": [
  {
   "cell_type": "code",
   "execution_count": 7,
   "metadata": {},
   "outputs": [
    {
     "data": {
      "text/plain": [
       "array([3])"
      ]
     },
     "execution_count": 7,
     "metadata": {},
     "output_type": "execute_result"
    }
   ],
   "source": [
    "from sklearn import tree\n",
    "import joblib\n",
    "\n",
    "X = [\n",
    "     [1, 2, 3, 4, 5, 6],\n",
    "     [5, 40, 31, 19, 8, 7],\n",
    "     [40, 31, 19, 8, 7, 28],\n",
    "     [8, 7, 9, 28, 37, 55],\n",
    "     [6, 14, 32, 48, 55, 45],\n",
    "     [11, 23, 37, 9, 58, 45],\n",
    "     [14, 6, 7, 33, 40, 45],\n",
    "     [31, 27, 8, 7, 9, 28],\n",
    "     [5, 40, 31, 27, 8, 7],\n",
    "     [31, 27, 8, 7, 9, 28],\n",
    "     [5, 28, 31, 27, 8, 41],\n",
    "     [41, 1, 19, 21, 56, 27],\n",
    "     [26, 47, 7, 41, 1, 28],\n",
    "     [47, 49, 15, 26, 46, 38]\n",
    "     ]\n",
    "y = [4,1,1,4,3,3,4,2,1,2,4,2,3,3]\n",
    "clf = tree.DecisionTreeClassifier()\n",
    "clf.fit(X,y)\n",
    "clf.predict([[15, 26, 36, 38, 39, 11]])\n",
    "\n",
    "# joblib.dump(clf,'decision-tree.pickle') #保存\n",
    "# new_model = joblib.load('decision-tree.pickle') #载入\n",
    "# new_model.predict([[5, 40, 31, 27, 8, 7]])"
   ]
  },
  {
   "cell_type": "code",
   "execution_count": null,
   "metadata": {},
   "outputs": [],
   "source": []
  }
 ],
 "metadata": {
  "interpreter": {
   "hash": "b0fa6594d8f4cbf19f97940f81e996739fb7646882a419484c72d19e05852a7e"
  },
  "kernelspec": {
   "display_name": "Python 3 (ipykernel)",
   "language": "python",
   "name": "python3"
  },
  "language_info": {
   "codemirror_mode": {
    "name": "ipython",
    "version": 3
   },
   "file_extension": ".py",
   "mimetype": "text/x-python",
   "name": "python",
   "nbconvert_exporter": "python",
   "pygments_lexer": "ipython3",
   "version": "3.9.10"
  },
  "widgets": {
   "application/vnd.jupyter.widget-state+json": {
    "state": {},
    "version_major": 2,
    "version_minor": 0
   }
  }
 },
 "nbformat": 4,
 "nbformat_minor": 4
}
