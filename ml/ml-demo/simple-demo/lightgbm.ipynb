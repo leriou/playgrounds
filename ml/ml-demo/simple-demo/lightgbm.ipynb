{
 "cells": [
  {
   "cell_type": "code",
   "execution_count": 6,
   "metadata": {},
   "outputs": [
    {
     "name": "stdout",
     "output_type": "stream",
     "text": [
      "Train data length: 120\n",
      "Test data length: 30\n",
      "[LightGBM] [Warning] Auto-choosing col-wise multi-threading, the overhead of testing was 0.000162 seconds.\n",
      "You can set `force_col_wise=true` to remove the overhead.\n",
      "[LightGBM] [Info] Total Bins 86\n",
      "[LightGBM] [Info] Number of data points in the train set: 120, number of used features: 4\n",
      "[LightGBM] [Info] Start training from score 1.008333\n",
      "[LightGBM] [Warning] No further splits with positive gain, best gain: -inf\n",
      "[1]\tvalid_0's l2: 0.516427\tvalid_0's auc: 1\n",
      "Training until validation scores don't improve for 5 rounds\n",
      "[LightGBM] [Warning] No further splits with positive gain, best gain: -inf\n",
      "[2]\tvalid_0's l2: 0.470466\tvalid_0's auc: 1\n",
      "[LightGBM] [Warning] No further splits with positive gain, best gain: -inf\n",
      "[3]\tvalid_0's l2: 0.428932\tvalid_0's auc: 1\n",
      "[LightGBM] [Warning] No further splits with positive gain, best gain: -inf\n",
      "[4]\tvalid_0's l2: 0.391397\tvalid_0's auc: 1\n",
      "[LightGBM] [Warning] No further splits with positive gain, best gain: -inf\n",
      "[5]\tvalid_0's l2: 0.357474\tvalid_0's auc: 1\n",
      "[LightGBM] [Warning] No further splits with positive gain, best gain: -inf\n",
      "[6]\tvalid_0's l2: 0.326545\tvalid_0's auc: 1\n",
      "Early stopping, best iteration is:\n",
      "[1]\tvalid_0's l2: 0.516427\tvalid_0's auc: 1\n",
      "The rmse of prediction is: 0.7186288053576969\n"
     ]
    },
    {
     "name": "stderr",
     "output_type": "stream",
     "text": [
      "/opt/homebrew/lib/python3.9/site-packages/lightgbm/engine.py:181: UserWarning: 'early_stopping_rounds' argument is deprecated and will be removed in a future release of LightGBM. Pass 'early_stopping()' callback via 'callbacks' argument instead.\n",
      "  _log_warning(\"'early_stopping_rounds' argument is deprecated and will be removed in a future release of LightGBM. \"\n"
     ]
    }
   ],
   "source": [
    "import lightgbm as lgb\n",
    "from sklearn.metrics import mean_squared_error\n",
    "from sklearn.datasets import load_iris\n",
    "from sklearn.model_selection import train_test_split\n",
    "\n",
    "# 加载数据\n",
    "iris = load_iris()\n",
    "data = iris.data\n",
    "target = iris.target\n",
    "\n",
    "# 划分训练集和测试集\n",
    "X_train, X_test, y_train, y_test = train_test_split(data, target, test_size=0.2)\n",
    "print(\"Train data length:\", len(X_train))\n",
    "print(\"Test data length:\", len(X_test))\n",
    "\n",
    "# 转换为Dataset数据格式\n",
    "lgb_train = lgb.Dataset(X_train, y_train)\n",
    "lgb_eval = lgb.Dataset(X_test, y_test, reference=lgb_train)\n",
    "\n",
    "# 参数\n",
    "params = {\n",
    "    'task': 'train',\n",
    "    'boosting_type': 'gbdt',  # 设置提升类型\n",
    "    'objective': 'regression',  # 目标函数\n",
    "    'metric': {'l2', 'auc'},  # 评估函数\n",
    "    'num_leaves': 31,  # 叶子节点数\n",
    "    'learning_rate': 0.05,  # 学习速率\n",
    "    'feature_fraction': 0.9,  # 建树的特征选择比例\n",
    "    'bagging_fraction': 0.8,  # 建树的样本采样比例\n",
    "    'bagging_freq': 5,  # k 意味着每 k 次迭代执行bagging\n",
    "    'verbose': 1  # <0 显示致命的, =0 显示错误 (警告), >0 显示信息\n",
    "}\n",
    "\n",
    "# 模型训练\n",
    "gbm = lgb.train(params, lgb_train, num_boost_round=20, valid_sets=lgb_eval, early_stopping_rounds=5)\n",
    "\n",
    "# 模型保存\n",
    "gbm.save_model('model.txt')\n",
    "\n",
    "# 模型加载\n",
    "gbm = lgb.Booster(model_file='model.txt')\n",
    "\n",
    "# 模型预测\n",
    "y_pred = gbm.predict(X_test, num_iteration=gbm.best_iteration)\n",
    "\n",
    "# 模型评估\n",
    "print('The rmse of prediction is:', mean_squared_error(y_test, y_pred) ** 0.5)"
   ]
  },
  {
   "cell_type": "code",
   "execution_count": 5,
   "metadata": {},
   "outputs": [
    {
     "name": "stderr",
     "output_type": "stream",
     "text": [
      "/opt/homebrew/lib/python3.9/site-packages/lightgbm/sklearn.py:726: UserWarning: 'early_stopping_rounds' argument is deprecated and will be removed in a future release of LightGBM. Pass 'early_stopping()' callback via 'callbacks' argument instead.\n",
      "  _log_warning(\"'early_stopping_rounds' argument is deprecated and will be removed in a future release of LightGBM. \"\n"
     ]
    },
    {
     "name": "stdout",
     "output_type": "stream",
     "text": [
      "[1]\tvalid_0's l1: 0.709291\tvalid_0's l2: 0.682171\n",
      "[2]\tvalid_0's l1: 0.678981\tvalid_0's l2: 0.620757\n",
      "[3]\tvalid_0's l1: 0.652975\tvalid_0's l2: 0.565551\n",
      "[4]\tvalid_0's l1: 0.628345\tvalid_0's l2: 0.516181\n",
      "[5]\tvalid_0's l1: 0.604872\tvalid_0's l2: 0.47183\n",
      "[6]\tvalid_0's l1: 0.582643\tvalid_0's l2: 0.432205\n",
      "[7]\tvalid_0's l1: 0.561456\tvalid_0's l2: 0.396636\n",
      "[8]\tvalid_0's l1: 0.537087\tvalid_0's l2: 0.361324\n",
      "[9]\tvalid_0's l1: 0.513936\tvalid_0's l2: 0.32947\n",
      "[10]\tvalid_0's l1: 0.491942\tvalid_0's l2: 0.300736\n",
      "[11]\tvalid_0's l1: 0.471048\tvalid_0's l2: 0.274817\n",
      "[12]\tvalid_0's l1: 0.451199\tvalid_0's l2: 0.251437\n",
      "[13]\tvalid_0's l1: 0.435478\tvalid_0's l2: 0.232758\n",
      "[14]\tvalid_0's l1: 0.417519\tvalid_0's l2: 0.213673\n",
      "[15]\tvalid_0's l1: 0.400457\tvalid_0's l2: 0.196461\n",
      "[16]\tvalid_0's l1: 0.384249\tvalid_0's l2: 0.180938\n",
      "[17]\tvalid_0's l1: 0.368641\tvalid_0's l2: 0.166786\n",
      "[18]\tvalid_0's l1: 0.356373\tvalid_0's l2: 0.156018\n",
      "[19]\tvalid_0's l1: 0.342428\tvalid_0's l2: 0.14459\n",
      "[20]\tvalid_0's l1: 0.329729\tvalid_0's l2: 0.134872\n",
      "The rmse of prediction is: 0.3672488226463852\n",
      "Feature importances: [1, 0, 35, 25]\n",
      "Best parameters found by grid search are: {'learning_rate': 0.1, 'n_estimators': 40}\n",
      " score 0.9306191948506757\n"
     ]
    }
   ],
   "source": [
    "from lightgbm import LGBMRegressor\n",
    "from sklearn.metrics import mean_squared_error\n",
    "from sklearn.model_selection import GridSearchCV\n",
    "from sklearn.datasets import load_iris\n",
    "from sklearn.model_selection import train_test_split\n",
    "\n",
    "# 加载数据\n",
    "iris = load_iris()\n",
    "data = iris.data\n",
    "target = iris.target\n",
    "\n",
    "# 划分训练数据和测试数据\n",
    "X_train, X_test, y_train, y_test = train_test_split(data, target, test_size=0.2)\n",
    "\n",
    "# 模型训练\n",
    "gbm = LGBMRegressor(objective='regression', num_leaves=31, learning_rate=0.05, n_estimators=20)\n",
    "gbm.fit(X_train, y_train, eval_set=[(X_test, y_test)], eval_metric='l1', early_stopping_rounds=5)\n",
    "\n",
    "# 模型预测\n",
    "y_pred = gbm.predict(X_test, num_iteration=gbm.best_iteration_)\n",
    "\n",
    "# 模型评估\n",
    "print('The rmse of prediction is:', mean_squared_error(y_test, y_pred) ** 0.5)\n",
    "\n",
    "# 特征重要度\n",
    "print('Feature importances:', list(gbm.feature_importances_))\n",
    "\n",
    "# 网格搜索，参数优化\n",
    "estimator = LGBMRegressor(num_leaves=31)\n",
    "param_grid = {\n",
    "    'learning_rate': [0.01, 0.1, 1],\n",
    "    'n_estimators': [20, 40]\n",
    "}\n",
    "gbm = GridSearchCV(estimator, param_grid)\n",
    "gbm.fit(X_train, y_train)\n",
    "print('Best parameters found by grid search are:', gbm.best_params_)\n",
    "\n",
    "print(\"Model Score %s\" % gbm.score(X_test,y_test))\n",
    "\n"
   ]
  }
 ],
 "metadata": {
  "interpreter": {
   "hash": "b0fa6594d8f4cbf19f97940f81e996739fb7646882a419484c72d19e05852a7e"
  },
  "kernelspec": {
   "display_name": "Python 3.9.10 64-bit",
   "language": "python",
   "name": "python3"
  },
  "language_info": {
   "codemirror_mode": {
    "name": "ipython",
    "version": 3
   },
   "file_extension": ".py",
   "mimetype": "text/x-python",
   "name": "python",
   "nbconvert_exporter": "python",
   "pygments_lexer": "ipython3",
   "version": "3.9.10"
  },
  "orig_nbformat": 4
 },
 "nbformat": 4,
 "nbformat_minor": 2
}
