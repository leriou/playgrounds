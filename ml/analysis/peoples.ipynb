{
 "cells": [
  {
   "cell_type": "code",
   "execution_count": 8,
   "metadata": {},
   "outputs": [],
   "source": [
    "import pandas as pd\n",
    "from pandasql import sqldf\n",
    "pysqldf = lambda q: sqldf(q, globals())\n",
    "\n",
    "filename = \"peoples.csv\"\n",
    "normal_born = \"people_born_normal.csv\"\n",
    "data_06 = \"people_data_06.csv\"\n",
    "data_07 = \"people_data_07.csv\"\n",
    "married = \"people_married.csv\""
   ]
  },
  {
   "cell_type": "code",
   "execution_count": 9,
   "metadata": {},
   "outputs": [],
   "source": [
    "\n",
    "df = pd.DataFrame({\n",
    "    \"year\":[i for i in range(1911,2020)]\n",
    "})\n",
    "df['current_age'] = 2022 - df['year']\n",
    "\n",
    "df07 = pd.read_csv(data_07)\n",
    "df07['born_year_07'] = 2020 - df07['年龄']\n",
    "\n",
    "df06 = pd.read_csv(data_06)\n",
    "df06['born_year_06'] = 2010 - df06['年龄']\n",
    "\n",
    "result = pysqldf(\"\"\"\n",
    "select \n",
    "    df.year,\n",
    "    df.current_age as current_age,\n",
    "    df06.合计 as t06, \n",
    "    df07.合计 as t07,\n",
    "    (df07.合计 - df06.合计)/10000 as diff\n",
    "from df \n",
    "left join df06 \n",
    "on df.year = df06.born_year_06 \n",
    "left join df07 \n",
    "on df.year = df07.born_year_07\n",
    "\"\"\")\n"
   ]
  },
  {
   "cell_type": "code",
   "execution_count": 10,
   "metadata": {},
   "outputs": [],
   "source": [
    "result.to_csv(\"result.csv\")"
   ]
  }
 ],
 "metadata": {
  "kernelspec": {
   "display_name": "Python 3.9.14 64-bit",
   "language": "python",
   "name": "python3"
  },
  "language_info": {
   "codemirror_mode": {
    "name": "ipython",
    "version": 3
   },
   "file_extension": ".py",
   "mimetype": "text/x-python",
   "name": "python",
   "nbconvert_exporter": "python",
   "pygments_lexer": "ipython3",
   "version": "3.9.14"
  },
  "orig_nbformat": 4,
  "vscode": {
   "interpreter": {
    "hash": "a665b5d41d17b532ea9890333293a1b812fa0b73c9c25c950b3cedf1bebd0438"
   }
  }
 },
 "nbformat": 4,
 "nbformat_minor": 2
}
