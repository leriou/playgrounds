{
 "cells": [
  {
   "cell_type": "code",
   "execution_count": 1,
   "metadata": {
    "tags": []
   },
   "outputs": [
    {
     "output_type": "stream",
     "name": "stdout",
     "text": [
      "('节点值', '权重', '父值')\n(13, 15, 0)\n(11, 23, 13)\n(7, 37, 11)\n(3, 70, 7)\n(1, 94, 3)\n(5, 84, 3)\n(9, 100, 7)\n(15, 38, 13)\n(17, 92, 15)\n('节点值', '权重', '父值')\n(13, 15, 0)\n(11, 23, 13)\n(7, 37, 11)\n(3, 70, 7)\n(5, 84, 3)\n(9, 100, 7)\n(17, 92, 13)\n"
     ]
    }
   ],
   "source": [
    "import random\n",
    "\n",
    "class Node:\n",
    "    def __init__(self, x, weight = None):\n",
    "        self.val = x\n",
    "        if not weight:\n",
    "            self.fix = random.randint(0,100)\n",
    "        else:\n",
    "            self.fix = weight\n",
    "        self.left = None\n",
    "        self.right = None\n",
    "\n",
    "def rotate_right(node):\n",
    "    Y = node.left.right\n",
    "    L = node.left\n",
    "    node.left = Y\n",
    "    L.right = node\n",
    "    return L\n",
    "\n",
    "def rotate_left(node):\n",
    "    X = node.right.left\n",
    "    R = node.right\n",
    "    node.right = X\n",
    "    R.left = node\n",
    "    return R\n",
    "\n",
    "def insert(node, val, fix = None):\n",
    "    if node == None:\n",
    "        if fix: return Node(val, fix)\n",
    "        return Node(val)\n",
    "    if node.val > val:\n",
    "        node.left = insert(node.left, val, fix)\n",
    "        if node.left.fix > node.fix: node = rotate_right(node) \n",
    "    else:\n",
    "        node.right = insert(node.right, val, fix)\n",
    "        if node.right.fix < node.fix: node = rotate_left(node)\n",
    "    return node\n",
    "\n",
    "def remove(node, val):\n",
    "    if node == None: return False\n",
    "    if node.val > val:\n",
    "        node.left = remove(node.left, val)\n",
    "    elif node.val < val:\n",
    "        node.right = remove(node.right, val)\n",
    "    else:\n",
    "        if not node.left and not node.right:\n",
    "            node = None\n",
    "        elif node.left and node.right:\n",
    "            if node.left.fix < node.right.fix :\n",
    "                node = rotate_right(node)\n",
    "                node = remove(node.right, val)\n",
    "            else:\n",
    "                node = rotate_left(node)\n",
    "                node = remove(node.left, val)\n",
    "        elif not node.right:\n",
    "            node = node.left\n",
    "        else:\n",
    "            node = node.right\n",
    "    return node\n",
    "    \n",
    "def search(node, val):\n",
    "    if node == None: return None\n",
    "    if node.val == val: return node.fix\n",
    "    if node.val < val:\n",
    "        return search(node.right, val)\n",
    "    return search(node.left, val)\n",
    "\n",
    "def trail(node, parent):\n",
    "    if node:\n",
    "        print((node.val, node.fix, parent))\n",
    "        if node.left: trail(node.left, node.val)\n",
    "        if node.right: trail(node.right, node.val)\n",
    "\n",
    "def print_node(node):\n",
    "    print((\"节点值\",\"权重\",\"父值\"))\n",
    "    trail(node, 0)\n",
    "\n",
    "root = None\n",
    "for i in [1,3,5,7,9,11,13,15,17]:\n",
    "    root = insert(root, i)\n",
    "print_node(root)\n",
    "\n",
    "root = remove(root, 15)\n",
    "root = remove(root, 1)\n",
    "\n",
    "print_node(root)"
   ]
  },
  {
   "cell_type": "code",
   "execution_count": 23,
   "metadata": {},
   "outputs": [
    {
     "output_type": "stream",
     "name": "stdout",
     "text": [
      "('节点值', '权重', '父值')\n(4, 1, 0)\n(1, 3, 4)\n(2, 7, 1)\n(5, 9, 4)\n(6, 8, 5)\n"
     ]
    }
   ],
   "source": [
    "root = None\n",
    "root = insert(root, 1,3)\n",
    "root = insert(root, 2,7)\n",
    "root = insert(root, 4,1)\n",
    "root = insert(root, 6,8)\n",
    "root = insert(root, 5,9)\n",
    "print_node(root)"
   ]
  },
  {
   "cell_type": "code",
   "execution_count": null,
   "metadata": {},
   "outputs": [],
   "source": []
  }
 ],
 "metadata": {
  "kernelspec": {
   "display_name": "Python 3.8.5 64-bit",
   "language": "python",
   "name": "python38564bit0059ef4a018941ef91eba633403c408b"
  },
  "language_info": {
   "codemirror_mode": {
    "name": "ipython",
    "version": 3
   },
   "file_extension": ".py",
   "mimetype": "text/x-python",
   "name": "python",
   "nbconvert_exporter": "python",
   "pygments_lexer": "ipython3",
   "version": "3.8.5-final"
  }
 },
 "nbformat": 4,
 "nbformat_minor": 4
}