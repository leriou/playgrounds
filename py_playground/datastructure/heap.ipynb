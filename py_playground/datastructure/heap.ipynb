{
 "metadata": {
  "language_info": {
   "codemirror_mode": {
    "name": "ipython",
    "version": 3
   },
   "file_extension": ".py",
   "mimetype": "text/x-python",
   "name": "python",
   "nbconvert_exporter": "python",
   "pygments_lexer": "ipython3",
   "version": "3.8.5-final"
  },
  "orig_nbformat": 2,
  "kernelspec": {
   "name": "python38564bit0059ef4a018941ef91eba633403c408b",
   "display_name": "Python 3.8.5 64-bit"
  }
 },
 "nbformat": 4,
 "nbformat_minor": 2,
 "cells": [
  {
   "cell_type": "code",
   "execution_count": 1,
   "metadata": {
    "tags": []
   },
   "outputs": [
    {
     "output_type": "stream",
     "name": "stdout",
     "text": "1\n2\n3\n3\n4\n6\n"
    }
   ],
   "source": [
    "class Heap:\n",
    "\n",
    "    def __init__(self):\n",
    "        self.data = [None]\n",
    "    \n",
    "    def insert(self, val):\n",
    "        self.data.append(val)\n",
    "        last = len(self.data) - 1\n",
    "        parent = self.get_parent(last)\n",
    "        while self.data[parent] is not None and self.compare(last, parent):\n",
    "            self.swap(last, parent)\n",
    "            last = parent\n",
    "            parent = self.get_parent(last)      \n",
    "\n",
    "    def pop(self):\n",
    "        ans = self.data[1]\n",
    "        self.data[1] = self.data.pop()\n",
    "        self.heapify(1)\n",
    "        return ans\n",
    "\n",
    "    def get_parent(self, idx):\n",
    "        return idx >> 1\n",
    "       \n",
    "    def swap(self, a, b):\n",
    "        self.data[a],self.data[b] = self.data[b],self.data[a]\n",
    "\n",
    "    def compare(self, a, b):\n",
    "        return self.data[a] < self.data[b]\n",
    "\n",
    "    def heapify(self, n):\n",
    "        last = len(self.data) - 1\n",
    "        while 2*n <= last:\n",
    "            j = 2*n \n",
    "            if j < last and self.compare(j+1, j):\n",
    "                j += 1\n",
    "            if self.compare(n, j):\n",
    "                break\n",
    "            self.swap(n, j)\n",
    "            n = j\n",
    "\n",
    "r = Heap()\n",
    "r.insert(6)\n",
    "r.insert(8)\n",
    "r.insert(3)\n",
    "r.insert(4)\n",
    "r.insert(11)\n",
    "r.insert(2)\n",
    "r.insert(3)\n",
    "r.insert(1)\n",
    "r.insert(99)\n",
    "\n",
    "print(r.pop())\n",
    "print(r.pop())\n",
    "print(r.pop())\n",
    "print(r.pop())\n",
    "print(r.pop())\n",
    "print(r.pop())"
   ]
  },
  {
   "cell_type": "code",
   "execution_count": null,
   "metadata": {},
   "outputs": [],
   "source": []
  }
 ]
}