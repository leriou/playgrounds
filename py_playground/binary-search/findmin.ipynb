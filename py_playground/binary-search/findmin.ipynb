{
 "cells": [
  {
   "cell_type": "markdown",
   "metadata": {},
   "source": [
    "寻找排序数字中的最小值\n",
    "\n",
    "给定数组 [4,5,6,7,1,2,3], 找到1"
   ]
  },
  {
   "cell_type": "code",
   "execution_count": 8,
   "metadata": {},
   "outputs": [
    {
     "name": "stdout",
     "output_type": "stream",
     "text": [
      "1\n"
     ]
    }
   ],
   "source": [
    "from typing import List\n",
    "\n",
    "def findMin(arr: List[int]) -> int:\n",
    "    left, right = 0, len(arr) - 1\n",
    "    while left < right:\n",
    "        if arr[left] < arr[right]:\n",
    "            return arr[left]\n",
    "        mid = left + (right - left) // 2\n",
    "        if arr[left] > arr[mid]:\n",
    "            right = mid\n",
    "        else:\n",
    "            left = mid + 1\n",
    "    return arr[left]\n",
    "\n",
    "print(findMin([4,5,6,7,1,2,3]))"
   ]
  },
  {
   "cell_type": "code",
   "execution_count": null,
   "metadata": {},
   "outputs": [],
   "source": []
  }
 ],
 "metadata": {
  "kernelspec": {
   "display_name": "Python 3.8.5 64-bit",
   "language": "python",
   "name": "python38564bit0059ef4a018941ef91eba633403c408b"
  },
  "language_info": {
   "codemirror_mode": {
    "name": "ipython",
    "version": 3
   },
   "file_extension": ".py",
   "mimetype": "text/x-python",
   "name": "python",
   "nbconvert_exporter": "python",
   "pygments_lexer": "ipython3",
   "version": "3.8.5"
  }
 },
 "nbformat": 4,
 "nbformat_minor": 4
}
