{
 "cells": [
  {
   "cell_type": "code",
   "execution_count": 10,
   "id": "bearing-prisoner",
   "metadata": {},
   "outputs": [],
   "source": [
    "import elasticsearch\n",
    "import pandas as pd"
   ]
  },
  {
   "cell_type": "code",
   "execution_count": 6,
   "id": "suited-papua",
   "metadata": {},
   "outputs": [],
   "source": [
    "file_name = \"elections\"\n",
    "source = \"../datasets/\"+file_name+\".csv\"\n",
    "esCli = elasticsearch.Elasticsearch([\"elasticsearch:9200\"])"
   ]
  },
  {
   "cell_type": "code",
   "execution_count": 6,
   "id": "killing-despite",
   "metadata": {},
   "outputs": [
    {
     "name": "stdout",
     "output_type": "stream",
     "text": [
      "success\n"
     ]
    }
   ],
   "source": [
    "def csv2es(filename):\n",
    "    df = pd.read_csv(filename)        \n",
    "    df_t = df.T\n",
    "    bulk = []\n",
    "    idx_name = file_name\n",
    "    for i in df_t:\n",
    "        bulk.append({\n",
    "         \"index\":{\n",
    "             \"_index\":idx_name\n",
    "         }})\n",
    "        bulk.append(df_t[i].to_json())\n",
    "#     print(bulk)    \n",
    "    esCli.bulk(bulk)\n",
    "csv2es(source)\n",
    "print(\"success\")"
   ]
  },
  {
   "cell_type": "code",
   "execution_count": null,
   "id": "structural-border",
   "metadata": {},
   "outputs": [],
   "source": []
  }
 ],
 "metadata": {
  "interpreter": {
   "hash": "31f2aee4e71d21fbe5cf8b01ff0e069b9275f58929596ceb00d14d90e3e16cd6"
  },
  "kernelspec": {
   "display_name": "Python 3 (ipykernel)",
   "language": "python",
   "name": "python3"
  },
  "language_info": {
   "codemirror_mode": {
    "name": "ipython",
    "version": 3
   },
   "file_extension": ".py",
   "mimetype": "text/x-python",
   "name": "python",
   "nbconvert_exporter": "python",
   "pygments_lexer": "ipython3",
   "version": "3.9.5"
  }
 },
 "nbformat": 4,
 "nbformat_minor": 5
}
