{
 "metadata": {
  "language_info": {
   "codemirror_mode": {
    "name": "ipython",
    "version": 3
   },
   "file_extension": ".py",
   "mimetype": "text/x-python",
   "name": "python",
   "nbconvert_exporter": "python",
   "pygments_lexer": "ipython3",
   "version": "3.8.5-final"
  },
  "orig_nbformat": 2,
  "kernelspec": {
   "name": "python38564bit0059ef4a018941ef91eba633403c408b",
   "display_name": "Python 3.8.5 64-bit"
  }
 },
 "nbformat": 4,
 "nbformat_minor": 2,
 "cells": [
  {
   "cell_type": "code",
   "execution_count": 42,
   "metadata": {
    "tags": []
   },
   "outputs": [
    {
     "output_type": "stream",
     "name": "stdout",
     "text": "5\n"
    }
   ],
   "source": [
    "def knapsack(vl, wl, m, n):\n",
    "    \"\"\"\n",
    "    args:\n",
    "        vl  每个物品的价值 \n",
    "        wl  每个物品的重量\n",
    "        m   限制的物品个数\n",
    "        n   限制的最大重量\n",
    "    \"\"\"\n",
    "    dp = [[0 for j in range(0, n+1)] for i in range(0, m+1)]\n",
    "    \n",
    "    for i in range(1, m+1):\n",
    "        for j in range(1, n+1):\n",
    "            if j < wl[i-1]:\n",
    "                dp[i][j] = dp[i-1][j]\n",
    "            else:\n",
    "                dp[i][j] = max(dp[i-1][j], (dp[i-1][j - wl[i-1]] + vl[i-1]))\n",
    "    return dp[m][n]\n",
    "m = knapsack([3,2,1],[1,2,3],2,4)\n",
    "print(m)"
   ]
  },
  {
   "cell_type": "code",
   "execution_count": null,
   "metadata": {},
   "outputs": [],
   "source": []
  }
 ]
}