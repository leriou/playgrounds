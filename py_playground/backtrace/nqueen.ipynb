{
 "cells": [
  {
   "cell_type": "code",
   "execution_count": 10,
   "metadata": {
    "tags": []
   },
   "outputs": [
    {
     "output_type": "execute_result",
     "data": {
      "text/plain": "[['.Q..', '...Q', 'Q...', '..Q.'], ['..Q.', 'Q...', '...Q', '.Q..']]"
     },
     "metadata": {},
     "execution_count": 10
    }
   ],
   "source": [
    "class Nqueen:\n",
    "\n",
    "    N = 4\n",
    "    maze = []\n",
    "    ans = []\n",
    "\n",
    "    def _init_(self):\n",
    "        for i in range(0,self.N):\n",
    "            t = []\n",
    "            for j in range(0,self.N):\n",
    "                t.append(\".\")\n",
    "            self.maze.append(t)\n",
    "\n",
    "    def run(self):\n",
    "        self._init_()\n",
    "        self.trail(0)\n",
    "        return self.ans\n",
    "    \n",
    "    def trail(self, n):\n",
    "        if n >= self.N:\n",
    "            self.ans.append([\"\".join(i) for i in self.maze])\n",
    "        else:\n",
    "            for i in range(0, self.N):\n",
    "                self.maze[n][i] = \"Q\"\n",
    "                if self.is_valid(n, i):\n",
    "                    self.trail(n+1)\n",
    "                self.maze[n][i] = \".\"\n",
    "    \n",
    "    def is_valid(self,x, y):\n",
    "        for i in range(0, x):\n",
    "            for j in range(0, self.N):\n",
    "                if (y == j) or (abs(x-i) == abs(y-j)) or (x+y) == (i+j): \n",
    "                    if self.maze[i][j] == \"Q\":\n",
    "                        return False    \n",
    "        return True\n",
    "\n",
    "\n",
    "Nqueen().run()"
   ]
  },
  {
   "cell_type": "code",
   "execution_count": null,
   "metadata": {},
   "outputs": [],
   "source": []
  }
 ],
 "metadata": {
  "kernelspec": {
   "display_name": "Python 3",
   "language": "python",
   "name": "python3"
  },
  "language_info": {
   "codemirror_mode": {
    "name": "ipython",
    "version": 3
   },
   "file_extension": ".py",
   "mimetype": "text/x-python",
   "name": "python",
   "nbconvert_exporter": "python",
   "pygments_lexer": "ipython3",
   "version": "3.8.5-final"
  }
 },
 "nbformat": 4,
 "nbformat_minor": 4
}