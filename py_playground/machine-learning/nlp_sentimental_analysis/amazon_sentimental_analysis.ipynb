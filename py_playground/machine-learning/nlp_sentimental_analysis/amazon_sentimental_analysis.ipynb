{
 "cells": [
  {
   "cell_type": "markdown",
   "metadata": {},
   "source": [
    "# amazon 评论的情感识别\n",
    "使用amazon的评论信息进行情感识别，目的是为了测试算法的识别准确度\n",
    "\n",
    "因为我们当前的训练数据不靠谱所以拿amazon的评论数据来做算法效果验证"
   ]
  },
  {
   "cell_type": "markdown",
   "metadata": {},
   "source": [
    "# Fasttext classification \n",
    "\n",
    "1. 格式转换工具将普通的csv训练数据文件变为共fasttext使用的训练数据"
   ]
  },
  {
   "cell_type": "code",
   "execution_count": 1,
   "metadata": {},
   "outputs": [],
   "source": [
    "import pandas as pd\n",
    "import os\n",
    "import fasttext\n",
    "import random\n",
    "\n",
    "amazon_source = \"../../datasets/amazon.csv\"\n",
    "\n",
    "def trans_file(old_file):\n",
    "    x = old_file + \".train\"\n",
    "    y = old_file + \".valid\"\n",
    "    h = pd.read_csv(old_file)\n",
    "\n",
    "    with open(x, \"w+\") as fx:\n",
    "        with open(y, \"w+\") as fy:\n",
    "            for i in range(0, len(h)):\n",
    "                s = \"__label__\" + str(h['Positive'][i])+\" \" + h['reviewText'][i] + \"\\n\"\n",
    "                if i > 12000:\n",
    "                    fy.write(s)\n",
    "                else:\n",
    "                    fx.write(s)\n",
    "    return x,y\n",
    "\n",
    "amazon_train, amazon_test = trans_file(amazon_source)"
   ]
  },
  {
   "cell_type": "code",
   "execution_count": 2,
   "metadata": {},
   "outputs": [
    {
     "name": "stderr",
     "output_type": "stream",
     "text": [
      "Read 0M words\n",
      "Number of words:  30628\n",
      "Number of labels: 2\n",
      "Progress: 100.0% words/sec/thread:  964496 lr:  0.000000 avg.loss:  0.111169 ETA:   0h 0m 0s\n"
     ]
    },
    {
     "data": {
      "text/plain": [
       "(7999, 0.5, 1.0)"
      ]
     },
     "execution_count": 2,
     "metadata": {},
     "output_type": "execute_result"
    }
   ],
   "source": [
    "model = fasttext.train_supervised(input=amazon_train,epoch=5,lr=0.8,wordNgrams=2,dim=128,loss='hs')\n",
    "model.test(amazon_test,k=-1)"
   ]
  },
  {
   "cell_type": "code",
   "execution_count": 3,
   "metadata": {},
   "outputs": [
    {
     "data": {
      "text/plain": [
       "(('__label__0', '__label__1'), array([0.9835794 , 0.01644061]))"
      ]
     },
     "execution_count": 3,
     "metadata": {},
     "output_type": "execute_result"
    }
   ],
   "source": [
    "model.predict(\"got this kindle fire for Christmas. trying to download free angry birds and it is not working. started to down load over 2 hours ago. an it is only at 2 percent still. piece of crap:(\",k=-1)"
   ]
  },
  {
   "cell_type": "code",
   "execution_count": null,
   "metadata": {},
   "outputs": [],
   "source": []
  },
  {
   "cell_type": "code",
   "execution_count": null,
   "metadata": {},
   "outputs": [],
   "source": []
  }
 ],
 "metadata": {
  "interpreter": {
   "hash": "31f2aee4e71d21fbe5cf8b01ff0e069b9275f58929596ceb00d14d90e3e16cd6"
  },
  "kernelspec": {
   "display_name": "Python 3.8.9 64-bit",
   "language": "python",
   "name": "python389jvsc74a57bd031f2aee4e71d21fbe5cf8b01ff0e069b9275f58929596ceb00d14d90e3e16cd6"
  },
  "language_info": {
   "codemirror_mode": {
    "name": "ipython",
    "version": 3
   },
   "file_extension": ".py",
   "mimetype": "text/x-python",
   "name": "python",
   "nbconvert_exporter": "python",
   "pygments_lexer": "ipython3",
   "version": "3.8.9"
  }
 },
 "nbformat": 4,
 "nbformat_minor": 4
}
