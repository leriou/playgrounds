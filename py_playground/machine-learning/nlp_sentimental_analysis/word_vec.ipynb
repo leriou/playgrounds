{
 "cells": [
  {
   "cell_type": "markdown",
   "metadata": {},
   "source": [
    "先将文本预处理到文件， 分词到文本中"
   ]
  },
  {
   "cell_type": "code",
   "execution_count": 1,
   "metadata": {
    "tags": []
   },
   "outputs": [
    {
     "output_type": "execute_result",
     "data": {
      "text/plain": [
       "                                          reviewText  Positive\n",
       "0  This is a one of the best apps acording to a b...         1\n",
       "1  This is a pretty good version of the game for ...         1\n",
       "2  this is a really cool game. there are a bunch ...         1\n",
       "3  This is a silly game and can be frustrating, b...         1\n",
       "4  This is a terrific game on any pad. Hrs of fun...         1"
      ],
      "text/html": "<div>\n<style scoped>\n    .dataframe tbody tr th:only-of-type {\n        vertical-align: middle;\n    }\n\n    .dataframe tbody tr th {\n        vertical-align: top;\n    }\n\n    .dataframe thead th {\n        text-align: right;\n    }\n</style>\n<table border=\"1\" class=\"dataframe\">\n  <thead>\n    <tr style=\"text-align: right;\">\n      <th></th>\n      <th>reviewText</th>\n      <th>Positive</th>\n    </tr>\n  </thead>\n  <tbody>\n    <tr>\n      <th>0</th>\n      <td>This is a one of the best apps acording to a b...</td>\n      <td>1</td>\n    </tr>\n    <tr>\n      <th>1</th>\n      <td>This is a pretty good version of the game for ...</td>\n      <td>1</td>\n    </tr>\n    <tr>\n      <th>2</th>\n      <td>this is a really cool game. there are a bunch ...</td>\n      <td>1</td>\n    </tr>\n    <tr>\n      <th>3</th>\n      <td>This is a silly game and can be frustrating, b...</td>\n      <td>1</td>\n    </tr>\n    <tr>\n      <th>4</th>\n      <td>This is a terrific game on any pad. Hrs of fun...</td>\n      <td>1</td>\n    </tr>\n  </tbody>\n</table>\n</div>"
     },
     "metadata": {},
     "execution_count": 1
    }
   ],
   "source": [
    "import pandas as pd\n",
    "import numpy as np\n",
    "\n",
    "model_path = \"../models/w2v.model\"\n",
    "\n",
    "content = pd.read_csv(\"../../datasets/amazon.csv\")\n",
    "content.head()"
   ]
  },
  {
   "cell_type": "markdown",
   "metadata": {},
   "source": [
    "# 词向量处理"
   ]
  },
  {
   "cell_type": "code",
   "execution_count": 2,
   "metadata": {},
   "outputs": [
    {
     "output_type": "error",
     "ename": "ModuleNotFoundError",
     "evalue": "No module named 'gensim'",
     "traceback": [
      "\u001b[0;31m---------------------------------------------------------------------------\u001b[0m",
      "\u001b[0;31mModuleNotFoundError\u001b[0m                       Traceback (most recent call last)",
      "\u001b[0;32m/var/folders/23/wv3l9j5n5w50wcwph10cdks00000gn/T/ipykernel_15084/3546094144.py\u001b[0m in \u001b[0;36m<module>\u001b[0;34m\u001b[0m\n\u001b[0;32m----> 1\u001b[0;31m \u001b[0;32mimport\u001b[0m \u001b[0mgensim\u001b[0m\u001b[0;34m\u001b[0m\u001b[0;34m\u001b[0m\u001b[0m\n\u001b[0m\u001b[1;32m      2\u001b[0m \u001b[0;32mfrom\u001b[0m \u001b[0mgensim\u001b[0m\u001b[0;34m.\u001b[0m\u001b[0mmodels\u001b[0m \u001b[0;32mimport\u001b[0m \u001b[0mword2vec\u001b[0m\u001b[0;34m\u001b[0m\u001b[0;34m\u001b[0m\u001b[0m\n\u001b[1;32m      3\u001b[0m \u001b[0;32mfrom\u001b[0m \u001b[0mgensim\u001b[0m\u001b[0;34m.\u001b[0m\u001b[0mtest\u001b[0m\u001b[0;34m.\u001b[0m\u001b[0mutils\u001b[0m \u001b[0;32mimport\u001b[0m \u001b[0mdatapath\u001b[0m\u001b[0;34m\u001b[0m\u001b[0;34m\u001b[0m\u001b[0m\n\u001b[1;32m      4\u001b[0m \u001b[0;32mfrom\u001b[0m \u001b[0mgensim\u001b[0m \u001b[0;32mimport\u001b[0m \u001b[0mutils\u001b[0m\u001b[0;34m\u001b[0m\u001b[0;34m\u001b[0m\u001b[0m\n\u001b[1;32m      5\u001b[0m \u001b[0;34m\u001b[0m\u001b[0m\n",
      "\u001b[0;31mModuleNotFoundError\u001b[0m: No module named 'gensim'"
     ]
    }
   ],
   "source": [
    "import gensim\n",
    "from gensim.models import word2vec\n",
    "from gensim.test.utils import datapath\n",
    "from gensim import utils\n",
    "\n",
    "class MyCorpus(object):\n",
    "    \"\"\"An interator that yields sentences (lists of str).\"\"\"\n",
    "    def __iter__(self):\n",
    "        for line in content[\"reviewText\"]:\n",
    "            yield utils.simple_preprocess(line)\n",
    "\n",
    "sentences = MyCorpus()\n",
    "model = gensim.models.Word2Vec(sentences,sg=1,size=100,\n",
    "window=5,min_count=1,\n",
    "negative=3,sample=0.001,\n",
    "hs=1,workers=4)\n",
    "model.save(model_path)\n",
    "# gensim.models.Word2Vec.load(model_path)\n",
    "print(\"done\")"
   ]
  },
  {
   "cell_type": "code",
   "execution_count": 8,
   "metadata": {
    "tags": []
   },
   "outputs": [
    {
     "name": "stdout",
     "output_type": "stream",
     "text": [
      "[-0.04341315 -0.16764747 -0.16165036 -0.12897252  0.02785893 -0.07628093\n",
      "  0.09021541  0.10793815 -0.23852685  0.14160801 -0.11156262  0.17988709\n",
      " -0.37314326  0.02889106  0.05138144 -0.26964813  0.13346225 -0.14135969\n",
      "  0.17410043 -0.27904966  0.21189609  0.0397902  -0.24171662 -0.09148877\n",
      " -0.1014115  -0.1038646   0.03757376 -0.3220507   0.24877875 -0.07302431\n",
      " -0.05745831  0.13666376  0.26935363  0.10824081  0.13340777  0.21769153\n",
      "  0.47416365  0.21562058 -0.07774304  0.12507826 -0.16638519  0.01474474\n",
      "  0.27217814 -0.06666863  0.10211551  0.05557802 -0.32035282 -0.19398847\n",
      "  0.5814904   0.18879999 -0.28742468  0.09481784  0.36360556  0.07902172\n",
      " -0.13276078 -0.12864564  0.0979754  -0.00130222 -0.06302983 -0.10546333\n",
      " -0.16236074 -0.42434287 -0.11459532 -0.3078727   0.29994974  0.26037806\n",
      "  0.26813424  0.2932424  -0.05875481  0.05327891  0.03433011 -0.21097383\n",
      "  0.10600097  0.11926781  0.13759701  0.43771523  0.14874838  0.02956506\n",
      "  0.2255741  -0.00526167  0.08765074  0.09697584 -0.37270784 -0.4619348\n",
      "  0.22824687 -0.16839641 -0.29584658 -0.2392976   0.19895378 -0.11165828\n",
      " -0.3406191  -0.01811032  0.12137407 -0.43945226  0.42058942 -0.00771559\n",
      " -0.50421935  0.24689083 -0.14870735 -0.00076257]\n"
     ]
    }
   ],
   "source": [
    "# for i,j in enumerate(model.wv.vocab):\n",
    "#     if i > 10:\n",
    "#         break\n",
    "    # print(i, j)\n",
    "    \n",
    "print(model.wv[\"this\"])"
   ]
  },
  {
   "cell_type": "code",
   "execution_count": 9,
   "metadata": {},
   "outputs": [
    {
     "name": "stdout",
     "output_type": "stream",
     "text": [
      "[('it', 0.7813069820404053), ('berry', 0.7299991250038147), ('damnit', 0.7041206359863281), ('that', 0.7017519474029541), ('rainbows', 0.6916657090187073), ('adicting', 0.6901747584342957), ('shooters', 0.6874193549156189), ('additive', 0.6866883039474487), ('definatly', 0.6843353509902954), ('boringjust', 0.6825917959213257)]\n"
     ]
    }
   ],
   "source": [
    "print(model.wv.most_similar(\"this\"))"
   ]
  },
  {
   "cell_type": "code",
   "execution_count": 10,
   "metadata": {},
   "outputs": [
    {
     "name": "stdout",
     "output_type": "stream",
     "text": [
      "[-0.04341315 -0.16764747 -0.16165036 -0.12897252  0.02785893 -0.07628093\n",
      "  0.09021541  0.10793815 -0.23852685  0.14160801 -0.11156262  0.17988709\n",
      " -0.37314326  0.02889106  0.05138144 -0.26964813  0.13346225 -0.14135969\n",
      "  0.17410043 -0.27904966  0.21189609  0.0397902  -0.24171662 -0.09148877\n",
      " -0.1014115  -0.1038646   0.03757376 -0.32205069  0.24877875 -0.07302431\n",
      " -0.05745831  0.13666376  0.26935363  0.10824081  0.13340777  0.21769153\n",
      "  0.47416365  0.21562058 -0.07774304  0.12507826 -0.16638519  0.01474474\n",
      "  0.27217814 -0.06666863  0.10211551  0.05557802 -0.32035282 -0.19398847\n",
      "  0.5814904   0.18879999 -0.28742468  0.09481784  0.36360556  0.07902172\n",
      " -0.13276078 -0.12864564  0.0979754  -0.00130222 -0.06302983 -0.10546333\n",
      " -0.16236074 -0.42434287 -0.11459532 -0.30787271  0.29994974  0.26037806\n",
      "  0.26813424  0.29324239 -0.05875481  0.05327891  0.03433011 -0.21097383\n",
      "  0.10600097  0.11926781  0.13759701  0.43771523  0.14874838  0.02956506\n",
      "  0.22557411 -0.00526167  0.08765074  0.09697584 -0.37270784 -0.4619348\n",
      "  0.22824687 -0.16839641 -0.29584658 -0.2392976   0.19895378 -0.11165828\n",
      " -0.34061909 -0.01811032  0.12137407 -0.43945226  0.42058942 -0.00771559\n",
      " -0.50421935  0.24689083 -0.14870735 -0.00076257]\n"
     ]
    }
   ],
   "source": [
    "sentence = \"this\"\n",
    "def sentence2vec(content):\n",
    "    tmp = np.zeros(100)\n",
    "    for w in content.split(\" \"):\n",
    "        tmp += model.wv[w]\n",
    "    return tmp\n",
    "print(sentence2vec(sentence))"
   ]
  },
  {
   "cell_type": "code",
   "execution_count": null,
   "metadata": {},
   "outputs": [],
   "source": []
  }
 ],
 "metadata": {
  "interpreter": {
   "hash": "b0fa6594d8f4cbf19f97940f81e996739fb7646882a419484c72d19e05852a7e"
  },
  "kernelspec": {
   "name": "python3",
   "display_name": "Python 3.9.6 64-bit"
  },
  "language_info": {
   "codemirror_mode": {
    "name": "ipython",
    "version": 3
   },
   "file_extension": ".py",
   "mimetype": "text/x-python",
   "name": "python",
   "nbconvert_exporter": "python",
   "pygments_lexer": "ipython3",
   "version": "3.9.6"
  }
 },
 "nbformat": 4,
 "nbformat_minor": 4
}