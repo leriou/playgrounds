{
 "cells": [
  {
   "cell_type": "markdown",
   "metadata": {},
   "source": [
    "先将文本预处理到文件， 分词到文本中"
   ]
  },
  {
   "cell_type": "code",
   "execution_count": 2,
   "metadata": {
    "tags": []
   },
   "outputs": [
    {
     "output_type": "execute_result",
     "data": {
      "text/plain": [
       "                                          reviewText  Positive\n",
       "0  This is a one of the best apps acording to a b...         1\n",
       "1  This is a pretty good version of the game for ...         1\n",
       "2  this is a really cool game. there are a bunch ...         1\n",
       "3  This is a silly game and can be frustrating, b...         1\n",
       "4  This is a terrific game on any pad. Hrs of fun...         1"
      ],
      "text/html": "<div>\n<style scoped>\n    .dataframe tbody tr th:only-of-type {\n        vertical-align: middle;\n    }\n\n    .dataframe tbody tr th {\n        vertical-align: top;\n    }\n\n    .dataframe thead th {\n        text-align: right;\n    }\n</style>\n<table border=\"1\" class=\"dataframe\">\n  <thead>\n    <tr style=\"text-align: right;\">\n      <th></th>\n      <th>reviewText</th>\n      <th>Positive</th>\n    </tr>\n  </thead>\n  <tbody>\n    <tr>\n      <th>0</th>\n      <td>This is a one of the best apps acording to a b...</td>\n      <td>1</td>\n    </tr>\n    <tr>\n      <th>1</th>\n      <td>This is a pretty good version of the game for ...</td>\n      <td>1</td>\n    </tr>\n    <tr>\n      <th>2</th>\n      <td>this is a really cool game. there are a bunch ...</td>\n      <td>1</td>\n    </tr>\n    <tr>\n      <th>3</th>\n      <td>This is a silly game and can be frustrating, b...</td>\n      <td>1</td>\n    </tr>\n    <tr>\n      <th>4</th>\n      <td>This is a terrific game on any pad. Hrs of fun...</td>\n      <td>1</td>\n    </tr>\n  </tbody>\n</table>\n</div>"
     },
     "metadata": {},
     "execution_count": 2
    }
   ],
   "source": [
    "import pandas as pd\n",
    "\n",
    "model_path = \"../models/w2v.model\"\n",
    "\n",
    "content = pd.read_csv(\"../datasets/amazon.csv\")\n",
    "content.head()"
   ]
  },
  {
   "cell_type": "markdown",
   "metadata": {},
   "source": [
    "# 词向量处理"
   ]
  },
  {
   "cell_type": "code",
   "execution_count": 10,
   "metadata": {},
   "outputs": [
    {
     "output_type": "stream",
     "name": "stdout",
     "text": [
      "done\n"
     ]
    }
   ],
   "source": [
    "import gensim\n",
    "from gensim.models import word2vec\n",
    "from gensim.test.utils import datapath\n",
    "from gensim import utils\n",
    "\n",
    "class MyCorpus(object):\n",
    "    \"\"\"An interator that yields sentences (lists of str).\"\"\"\n",
    "    def __iter__(self):\n",
    "        for line in content[\"reviewText\"]:\n",
    "            yield utils.simple_preprocess(line)\n",
    "\n",
    "sentences = MyCorpus()\n",
    "model = gensim.models.Word2Vec(sentences,sg=1,size=100,\n",
    "window=5,min_count=1,\n",
    "negative=3,sample=0.001,\n",
    "hs=1,workers=4)\n",
    "model.save(model_path)\n",
    "# gensim.models.Word2Vec.load(model_path)\n",
    "print(\"done\")"
   ]
  },
  {
   "cell_type": "code",
   "execution_count": 29,
   "metadata": {
    "tags": []
   },
   "outputs": [
    {
     "output_type": "stream",
     "name": "stdout",
     "text": [
      "[ 1.94899485e-01 -2.87309438e-01  5.16169488e-01  2.08277311e-02\n -1.62131533e-01  2.62116687e-03 -1.90382987e-01  2.16710389e-01\n  8.08480103e-03  3.25187981e-01 -3.73708367e-01  1.27482563e-01\n  2.59205759e-01 -4.06060554e-02  4.00225848e-01 -2.40441695e-01\n  5.42219030e-03  6.37533376e-03 -2.20016658e-01 -2.44695649e-01\n -1.01993158e-02  2.77013391e-01 -1.49237990e-01 -5.86217828e-02\n  3.57298106e-02  9.11402404e-02 -1.71836421e-01  3.15938205e-01\n -2.52256151e-02  9.58406255e-02 -1.30690604e-01 -8.08587298e-02\n  4.79526222e-01  9.58064422e-02 -1.37538835e-01  3.31730604e-01\n -3.12629372e-01  1.48470953e-01  1.58697501e-01 -1.43844694e-01\n  7.49384984e-02  3.54521185e-01 -1.26695827e-01  6.65274039e-02\n  7.15789199e-02  1.20356657e-01 -3.81246470e-02  1.50637418e-01\n  3.79844666e-01  6.01675473e-02  2.84114957e-01 -4.94480610e-01\n -2.28165925e-01 -9.83281434e-02  1.61484778e-02  2.02221930e-01\n -1.47290260e-01 -1.33666858e-01 -1.29326522e-01 -1.64546132e-01\n  9.93541628e-02  1.64061964e-01  1.80328593e-01 -1.12876303e-01\n  1.06536932e-01  3.13024729e-01  3.42424406e-04  3.29267174e-01\n -1.16699435e-01  3.12646329e-01  9.80922803e-02  2.16298327e-01\n -1.83960691e-01  4.39882614e-02 -2.33742774e-01 -4.60105389e-02\n -5.12809277e-01 -2.01143194e-02 -4.11125004e-01  1.58118173e-01\n  1.97056979e-01  9.15507823e-02 -1.52453408e-01 -3.95848565e-02\n -1.29491985e-01 -8.91724974e-02  3.37565601e-01 -1.07530989e-01\n  1.38393551e-01  2.91712195e-01  7.93915614e-03  1.50758713e-01\n -8.41201544e-02  2.85899383e-03 -3.71421911e-02  4.27029729e-02\n  6.71110630e-01 -1.95478365e-01 -1.05361445e-02 -3.20390821e-03]\n"
     ]
    }
   ],
   "source": [
    "# for i,j in enumerate(model.wv.vocab):\n",
    "#     if i > 10:\n",
    "#         break\n",
    "    # print(i, j)\n",
    "    \n",
    "print(model.wv[\"this\"])"
   ]
  },
  {
   "cell_type": "code",
   "execution_count": 12,
   "metadata": {},
   "outputs": [
    {
     "output_type": "stream",
     "name": "stdout",
     "text": [
      "[('it', 0.7545158267021179), ('definatly', 0.7128394246101379), ('berry', 0.6995676755905151), ('faod', 0.6950221061706543), ('toughness', 0.6909851431846619), ('hesitate', 0.6905331611633301), ('expecly', 0.6747558116912842), ('awedome', 0.6728265285491943), ('rainbows', 0.6687414646148682), ('that', 0.6681641340255737)]\n"
     ]
    }
   ],
   "source": [
    "print(model.wv.most_similar(\"this\"))"
   ]
  },
  {
   "cell_type": "code",
   "execution_count": 28,
   "metadata": {},
   "outputs": [
    {
     "output_type": "stream",
     "name": "stdout",
     "text": [
      "[ 1.94899485e-01 -2.87309438e-01  5.16169488e-01  2.08277311e-02\n -1.62131533e-01  2.62116687e-03 -1.90382987e-01  2.16710389e-01\n  8.08480103e-03  3.25187981e-01 -3.73708367e-01  1.27482563e-01\n  2.59205759e-01 -4.06060554e-02  4.00225848e-01 -2.40441695e-01\n  5.42219030e-03  6.37533376e-03 -2.20016658e-01 -2.44695649e-01\n -1.01993158e-02  2.77013391e-01 -1.49237990e-01 -5.86217828e-02\n  3.57298106e-02  9.11402404e-02 -1.71836421e-01  3.15938205e-01\n -2.52256151e-02  9.58406255e-02 -1.30690604e-01 -8.08587298e-02\n  4.79526222e-01  9.58064422e-02 -1.37538835e-01  3.31730604e-01\n -3.12629372e-01  1.48470953e-01  1.58697501e-01 -1.43844694e-01\n  7.49384984e-02  3.54521185e-01 -1.26695827e-01  6.65274039e-02\n  7.15789199e-02  1.20356657e-01 -3.81246470e-02  1.50637418e-01\n  3.79844666e-01  6.01675473e-02  2.84114957e-01 -4.94480610e-01\n -2.28165925e-01 -9.83281434e-02  1.61484778e-02  2.02221930e-01\n -1.47290260e-01 -1.33666858e-01 -1.29326522e-01 -1.64546132e-01\n  9.93541628e-02  1.64061964e-01  1.80328593e-01 -1.12876303e-01\n  1.06536932e-01  3.13024729e-01  3.42424406e-04  3.29267174e-01\n -1.16699435e-01  3.12646329e-01  9.80922803e-02  2.16298327e-01\n -1.83960691e-01  4.39882614e-02 -2.33742774e-01 -4.60105389e-02\n -5.12809277e-01 -2.01143194e-02 -4.11125004e-01  1.58118173e-01\n  1.97056979e-01  9.15507823e-02 -1.52453408e-01 -3.95848565e-02\n -1.29491985e-01 -8.91724974e-02  3.37565601e-01 -1.07530989e-01\n  1.38393551e-01  2.91712195e-01  7.93915614e-03  1.50758713e-01\n -8.41201544e-02  2.85899383e-03 -3.71421911e-02  4.27029729e-02\n  6.71110630e-01 -1.95478365e-01 -1.05361445e-02 -3.20390821e-03]\n"
     ]
    }
   ],
   "source": [
    "\n",
    "sentence = \"this\"\n",
    "def sentence2vec(content):\n",
    "    tmp = np.zeros(100)\n",
    "    for w in content.split(\" \"):\n",
    "        tmp += model.wv[w]\n",
    "    return tmp\n",
    "print(sentence2vec(sentence))\n"
   ]
  },
  {
   "cell_type": "code",
   "execution_count": null,
   "metadata": {},
   "outputs": [],
   "source": []
  }
 ],
 "metadata": {
  "kernelspec": {
   "display_name": "Python 3",
   "language": "python",
   "name": "python3"
  },
  "language_info": {
   "codemirror_mode": {
    "name": "ipython",
    "version": 3
   },
   "file_extension": ".py",
   "mimetype": "text/x-python",
   "name": "python",
   "nbconvert_exporter": "python",
   "pygments_lexer": "ipython3",
   "version": "3.8.5-final"
  }
 },
 "nbformat": 4,
 "nbformat_minor": 4
}