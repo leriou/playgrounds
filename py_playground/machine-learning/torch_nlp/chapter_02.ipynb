{
 "cells": [
  {
   "cell_type": "code",
   "execution_count": 1,
   "metadata": {},
   "outputs": [
    {
     "data": {
      "application/vnd.plotly.v1+json": {
       "config": {
        "plotlyServerURL": "https://plot.ly"
       },
       "data": [
        {
         "hovertemplate": "x=%{x}<br>y=%{y}<extra></extra>",
         "legendgroup": "",
         "line": {
          "color": "#636efa",
          "dash": "solid"
         },
         "marker": {
          "symbol": "circle"
         },
         "mode": "lines",
         "name": "",
         "orientation": "v",
         "showlegend": false,
         "type": "scatter",
         "x": [
          -5,
          -4.900000095367432,
          -4.800000190734863,
          -4.699999809265137,
          -4.599999904632568,
          -4.5,
          -4.400000095367432,
          -4.300000190734863,
          -4.199999809265137,
          -4.099999904632568,
          -3.999999761581421,
          -3.8999998569488525,
          -3.799999713897705,
          -3.6999998092651367,
          -3.5999999046325684,
          -3.499999761581421,
          -3.4000000953674316,
          -3.3000001907348633,
          -3.200000047683716,
          -3.1000001430511475,
          -3,
          -2.9000000953674316,
          -2.8000001907348633,
          -2.700000047683716,
          -2.5999999046325684,
          -2.5,
          -2.3999998569488525,
          -2.299999952316284,
          -2.1999998092651367,
          -2.0999999046325684,
          -1.9999998807907104,
          -1.8999998569488525,
          -1.7999999523162842,
          -1.6999999284744263,
          -1.5999999046325684,
          -1.5,
          -1.399999976158142,
          -1.2999999523162842,
          -1.1999999284744263,
          -1.0999999046325684,
          -1,
          -0.8999999761581421,
          -0.800000011920929,
          -0.699999988079071,
          -0.6000000238418579,
          -0.5,
          -0.3999999761581421,
          -0.29999998211860657,
          -0.20000000298023224,
          -0.10000000149011612,
          0,
          0.10000000149011612,
          0.20000000298023224,
          0.30000001192092896,
          0.4000000059604645,
          0.5,
          0.6000000238418579,
          0.7000000476837158,
          0.800000011920929,
          0.9000000357627869,
          1,
          1.100000023841858,
          1.2000000476837158,
          1.3000000715255737,
          1.399999976158142,
          1.5,
          1.600000023841858,
          1.6999999284744263,
          1.7999999523162842,
          1.899999976158142,
          2,
          2.0999999046325684,
          2.200000047683716,
          2.299999952316284,
          2.4000000953674316,
          2.5,
          2.6000001430511475,
          2.700000047683716,
          2.799999952316284,
          2.9000000953674316,
          3,
          3.0999999046325684,
          3.200000047683716,
          3.299999952316284,
          3.4000000953674316,
          3.5,
          3.5999999046325684,
          3.700000047683716,
          3.799999952316284,
          3.8999998569488525,
          4,
          4.099999904632568,
          4.199999809265137,
          4.300000190734863,
          4.400000095367432,
          4.5,
          4.599999904632568,
          4.699999809265137,
          4.800000190734863,
          4.900000095367432
         ],
         "xaxis": "x",
         "y": [
          0.006692850962281227,
          0.0073915403336286545,
          0.00816257018595934,
          0.009013300761580467,
          0.009951802901923656,
          0.010986942797899246,
          0.012128434143960476,
          0.013386915437877178,
          0.014774034731090069,
          0.016302499920129776,
          0.01798621378839016,
          0.019840307533740997,
          0.02188127674162388,
          0.02412702701985836,
          0.026596995070576668,
          0.029312238097190857,
          0.03229546174407005,
          0.03557118400931358,
          0.03916572034358978,
          0.04310724884271622,
          0.04742587357759476,
          0.052153561264276505,
          0.05732416361570358,
          0.06297335773706436,
          0.06913843005895615,
          0.07585817575454712,
          0.08317270129919052,
          0.09112296253442764,
          0.09975050389766693,
          0.10909683257341385,
          0.11920293420553207,
          0.13010849058628082,
          0.14185106754302979,
          0.15446527302265167,
          0.16798162460327148,
          0.18242552876472473,
          0.19781610369682312,
          0.21416503190994263,
          0.23147521913051605,
          0.24973991513252258,
          0.2689414322376251,
          0.28905048966407776,
          0.31002551317214966,
          0.3318122327327728,
          0.3543437123298645,
          0.3775406777858734,
          0.40131235122680664,
          0.4255574941635132,
          0.4501660168170929,
          0.47502079606056213,
          0.5,
          0.5249791741371155,
          0.5498339533805847,
          0.5744425058364868,
          0.5986876487731934,
          0.622459352016449,
          0.6456562876701355,
          0.6681877970695496,
          0.6899744868278503,
          0.7109494805335999,
          0.7310585975646973,
          0.7502601146697998,
          0.7685248255729675,
          0.7858350276947021,
          0.8021839261054993,
          0.8175744414329529,
          0.8320183753967285,
          0.8455346822738647,
          0.8581488728523254,
          0.8698915839195251,
          0.8807970285415649,
          0.8909031748771667,
          0.9002495408058167,
          0.9088770747184753,
          0.9168273210525513,
          0.9241418242454529,
          0.9308615922927856,
          0.9370266199111938,
          0.9426758289337158,
          0.9478464722633362,
          0.9525741338729858,
          0.956892728805542,
          0.960834264755249,
          0.9644288420677185,
          0.9677045941352844,
          0.970687747001648,
          0.9734029769897461,
          0.9758729934692383,
          0.9781186580657959,
          0.9801597595214844,
          0.9820137619972229,
          0.9836974740028381,
          0.9852259755134583,
          0.9866130948066711,
          0.987871527671814,
          0.9890130758285522,
          0.9900481700897217,
          0.9909866452217102,
          0.9918374419212341,
          0.9926084876060486
         ],
         "yaxis": "y"
        }
       ],
       "layout": {
        "legend": {
         "tracegroupgap": 0
        },
        "margin": {
         "t": 60
        },
        "template": {
         "data": {
          "bar": [
           {
            "error_x": {
             "color": "#2a3f5f"
            },
            "error_y": {
             "color": "#2a3f5f"
            },
            "marker": {
             "line": {
              "color": "#E5ECF6",
              "width": 0.5
             },
             "pattern": {
              "fillmode": "overlay",
              "size": 10,
              "solidity": 0.2
             }
            },
            "type": "bar"
           }
          ],
          "barpolar": [
           {
            "marker": {
             "line": {
              "color": "#E5ECF6",
              "width": 0.5
             },
             "pattern": {
              "fillmode": "overlay",
              "size": 10,
              "solidity": 0.2
             }
            },
            "type": "barpolar"
           }
          ],
          "carpet": [
           {
            "aaxis": {
             "endlinecolor": "#2a3f5f",
             "gridcolor": "white",
             "linecolor": "white",
             "minorgridcolor": "white",
             "startlinecolor": "#2a3f5f"
            },
            "baxis": {
             "endlinecolor": "#2a3f5f",
             "gridcolor": "white",
             "linecolor": "white",
             "minorgridcolor": "white",
             "startlinecolor": "#2a3f5f"
            },
            "type": "carpet"
           }
          ],
          "choropleth": [
           {
            "colorbar": {
             "outlinewidth": 0,
             "ticks": ""
            },
            "type": "choropleth"
           }
          ],
          "contour": [
           {
            "colorbar": {
             "outlinewidth": 0,
             "ticks": ""
            },
            "colorscale": [
             [
              0,
              "#0d0887"
             ],
             [
              0.1111111111111111,
              "#46039f"
             ],
             [
              0.2222222222222222,
              "#7201a8"
             ],
             [
              0.3333333333333333,
              "#9c179e"
             ],
             [
              0.4444444444444444,
              "#bd3786"
             ],
             [
              0.5555555555555556,
              "#d8576b"
             ],
             [
              0.6666666666666666,
              "#ed7953"
             ],
             [
              0.7777777777777778,
              "#fb9f3a"
             ],
             [
              0.8888888888888888,
              "#fdca26"
             ],
             [
              1,
              "#f0f921"
             ]
            ],
            "type": "contour"
           }
          ],
          "contourcarpet": [
           {
            "colorbar": {
             "outlinewidth": 0,
             "ticks": ""
            },
            "type": "contourcarpet"
           }
          ],
          "heatmap": [
           {
            "colorbar": {
             "outlinewidth": 0,
             "ticks": ""
            },
            "colorscale": [
             [
              0,
              "#0d0887"
             ],
             [
              0.1111111111111111,
              "#46039f"
             ],
             [
              0.2222222222222222,
              "#7201a8"
             ],
             [
              0.3333333333333333,
              "#9c179e"
             ],
             [
              0.4444444444444444,
              "#bd3786"
             ],
             [
              0.5555555555555556,
              "#d8576b"
             ],
             [
              0.6666666666666666,
              "#ed7953"
             ],
             [
              0.7777777777777778,
              "#fb9f3a"
             ],
             [
              0.8888888888888888,
              "#fdca26"
             ],
             [
              1,
              "#f0f921"
             ]
            ],
            "type": "heatmap"
           }
          ],
          "heatmapgl": [
           {
            "colorbar": {
             "outlinewidth": 0,
             "ticks": ""
            },
            "colorscale": [
             [
              0,
              "#0d0887"
             ],
             [
              0.1111111111111111,
              "#46039f"
             ],
             [
              0.2222222222222222,
              "#7201a8"
             ],
             [
              0.3333333333333333,
              "#9c179e"
             ],
             [
              0.4444444444444444,
              "#bd3786"
             ],
             [
              0.5555555555555556,
              "#d8576b"
             ],
             [
              0.6666666666666666,
              "#ed7953"
             ],
             [
              0.7777777777777778,
              "#fb9f3a"
             ],
             [
              0.8888888888888888,
              "#fdca26"
             ],
             [
              1,
              "#f0f921"
             ]
            ],
            "type": "heatmapgl"
           }
          ],
          "histogram": [
           {
            "marker": {
             "pattern": {
              "fillmode": "overlay",
              "size": 10,
              "solidity": 0.2
             }
            },
            "type": "histogram"
           }
          ],
          "histogram2d": [
           {
            "colorbar": {
             "outlinewidth": 0,
             "ticks": ""
            },
            "colorscale": [
             [
              0,
              "#0d0887"
             ],
             [
              0.1111111111111111,
              "#46039f"
             ],
             [
              0.2222222222222222,
              "#7201a8"
             ],
             [
              0.3333333333333333,
              "#9c179e"
             ],
             [
              0.4444444444444444,
              "#bd3786"
             ],
             [
              0.5555555555555556,
              "#d8576b"
             ],
             [
              0.6666666666666666,
              "#ed7953"
             ],
             [
              0.7777777777777778,
              "#fb9f3a"
             ],
             [
              0.8888888888888888,
              "#fdca26"
             ],
             [
              1,
              "#f0f921"
             ]
            ],
            "type": "histogram2d"
           }
          ],
          "histogram2dcontour": [
           {
            "colorbar": {
             "outlinewidth": 0,
             "ticks": ""
            },
            "colorscale": [
             [
              0,
              "#0d0887"
             ],
             [
              0.1111111111111111,
              "#46039f"
             ],
             [
              0.2222222222222222,
              "#7201a8"
             ],
             [
              0.3333333333333333,
              "#9c179e"
             ],
             [
              0.4444444444444444,
              "#bd3786"
             ],
             [
              0.5555555555555556,
              "#d8576b"
             ],
             [
              0.6666666666666666,
              "#ed7953"
             ],
             [
              0.7777777777777778,
              "#fb9f3a"
             ],
             [
              0.8888888888888888,
              "#fdca26"
             ],
             [
              1,
              "#f0f921"
             ]
            ],
            "type": "histogram2dcontour"
           }
          ],
          "mesh3d": [
           {
            "colorbar": {
             "outlinewidth": 0,
             "ticks": ""
            },
            "type": "mesh3d"
           }
          ],
          "parcoords": [
           {
            "line": {
             "colorbar": {
              "outlinewidth": 0,
              "ticks": ""
             }
            },
            "type": "parcoords"
           }
          ],
          "pie": [
           {
            "automargin": true,
            "type": "pie"
           }
          ],
          "scatter": [
           {
            "marker": {
             "colorbar": {
              "outlinewidth": 0,
              "ticks": ""
             }
            },
            "type": "scatter"
           }
          ],
          "scatter3d": [
           {
            "line": {
             "colorbar": {
              "outlinewidth": 0,
              "ticks": ""
             }
            },
            "marker": {
             "colorbar": {
              "outlinewidth": 0,
              "ticks": ""
             }
            },
            "type": "scatter3d"
           }
          ],
          "scattercarpet": [
           {
            "marker": {
             "colorbar": {
              "outlinewidth": 0,
              "ticks": ""
             }
            },
            "type": "scattercarpet"
           }
          ],
          "scattergeo": [
           {
            "marker": {
             "colorbar": {
              "outlinewidth": 0,
              "ticks": ""
             }
            },
            "type": "scattergeo"
           }
          ],
          "scattergl": [
           {
            "marker": {
             "colorbar": {
              "outlinewidth": 0,
              "ticks": ""
             }
            },
            "type": "scattergl"
           }
          ],
          "scattermapbox": [
           {
            "marker": {
             "colorbar": {
              "outlinewidth": 0,
              "ticks": ""
             }
            },
            "type": "scattermapbox"
           }
          ],
          "scatterpolar": [
           {
            "marker": {
             "colorbar": {
              "outlinewidth": 0,
              "ticks": ""
             }
            },
            "type": "scatterpolar"
           }
          ],
          "scatterpolargl": [
           {
            "marker": {
             "colorbar": {
              "outlinewidth": 0,
              "ticks": ""
             }
            },
            "type": "scatterpolargl"
           }
          ],
          "scatterternary": [
           {
            "marker": {
             "colorbar": {
              "outlinewidth": 0,
              "ticks": ""
             }
            },
            "type": "scatterternary"
           }
          ],
          "surface": [
           {
            "colorbar": {
             "outlinewidth": 0,
             "ticks": ""
            },
            "colorscale": [
             [
              0,
              "#0d0887"
             ],
             [
              0.1111111111111111,
              "#46039f"
             ],
             [
              0.2222222222222222,
              "#7201a8"
             ],
             [
              0.3333333333333333,
              "#9c179e"
             ],
             [
              0.4444444444444444,
              "#bd3786"
             ],
             [
              0.5555555555555556,
              "#d8576b"
             ],
             [
              0.6666666666666666,
              "#ed7953"
             ],
             [
              0.7777777777777778,
              "#fb9f3a"
             ],
             [
              0.8888888888888888,
              "#fdca26"
             ],
             [
              1,
              "#f0f921"
             ]
            ],
            "type": "surface"
           }
          ],
          "table": [
           {
            "cells": {
             "fill": {
              "color": "#EBF0F8"
             },
             "line": {
              "color": "white"
             }
            },
            "header": {
             "fill": {
              "color": "#C8D4E3"
             },
             "line": {
              "color": "white"
             }
            },
            "type": "table"
           }
          ]
         },
         "layout": {
          "annotationdefaults": {
           "arrowcolor": "#2a3f5f",
           "arrowhead": 0,
           "arrowwidth": 1
          },
          "autotypenumbers": "strict",
          "coloraxis": {
           "colorbar": {
            "outlinewidth": 0,
            "ticks": ""
           }
          },
          "colorscale": {
           "diverging": [
            [
             0,
             "#8e0152"
            ],
            [
             0.1,
             "#c51b7d"
            ],
            [
             0.2,
             "#de77ae"
            ],
            [
             0.3,
             "#f1b6da"
            ],
            [
             0.4,
             "#fde0ef"
            ],
            [
             0.5,
             "#f7f7f7"
            ],
            [
             0.6,
             "#e6f5d0"
            ],
            [
             0.7,
             "#b8e186"
            ],
            [
             0.8,
             "#7fbc41"
            ],
            [
             0.9,
             "#4d9221"
            ],
            [
             1,
             "#276419"
            ]
           ],
           "sequential": [
            [
             0,
             "#0d0887"
            ],
            [
             0.1111111111111111,
             "#46039f"
            ],
            [
             0.2222222222222222,
             "#7201a8"
            ],
            [
             0.3333333333333333,
             "#9c179e"
            ],
            [
             0.4444444444444444,
             "#bd3786"
            ],
            [
             0.5555555555555556,
             "#d8576b"
            ],
            [
             0.6666666666666666,
             "#ed7953"
            ],
            [
             0.7777777777777778,
             "#fb9f3a"
            ],
            [
             0.8888888888888888,
             "#fdca26"
            ],
            [
             1,
             "#f0f921"
            ]
           ],
           "sequentialminus": [
            [
             0,
             "#0d0887"
            ],
            [
             0.1111111111111111,
             "#46039f"
            ],
            [
             0.2222222222222222,
             "#7201a8"
            ],
            [
             0.3333333333333333,
             "#9c179e"
            ],
            [
             0.4444444444444444,
             "#bd3786"
            ],
            [
             0.5555555555555556,
             "#d8576b"
            ],
            [
             0.6666666666666666,
             "#ed7953"
            ],
            [
             0.7777777777777778,
             "#fb9f3a"
            ],
            [
             0.8888888888888888,
             "#fdca26"
            ],
            [
             1,
             "#f0f921"
            ]
           ]
          },
          "colorway": [
           "#636efa",
           "#EF553B",
           "#00cc96",
           "#ab63fa",
           "#FFA15A",
           "#19d3f3",
           "#FF6692",
           "#B6E880",
           "#FF97FF",
           "#FECB52"
          ],
          "font": {
           "color": "#2a3f5f"
          },
          "geo": {
           "bgcolor": "white",
           "lakecolor": "white",
           "landcolor": "#E5ECF6",
           "showlakes": true,
           "showland": true,
           "subunitcolor": "white"
          },
          "hoverlabel": {
           "align": "left"
          },
          "hovermode": "closest",
          "mapbox": {
           "style": "light"
          },
          "paper_bgcolor": "white",
          "plot_bgcolor": "#E5ECF6",
          "polar": {
           "angularaxis": {
            "gridcolor": "white",
            "linecolor": "white",
            "ticks": ""
           },
           "bgcolor": "#E5ECF6",
           "radialaxis": {
            "gridcolor": "white",
            "linecolor": "white",
            "ticks": ""
           }
          },
          "scene": {
           "xaxis": {
            "backgroundcolor": "#E5ECF6",
            "gridcolor": "white",
            "gridwidth": 2,
            "linecolor": "white",
            "showbackground": true,
            "ticks": "",
            "zerolinecolor": "white"
           },
           "yaxis": {
            "backgroundcolor": "#E5ECF6",
            "gridcolor": "white",
            "gridwidth": 2,
            "linecolor": "white",
            "showbackground": true,
            "ticks": "",
            "zerolinecolor": "white"
           },
           "zaxis": {
            "backgroundcolor": "#E5ECF6",
            "gridcolor": "white",
            "gridwidth": 2,
            "linecolor": "white",
            "showbackground": true,
            "ticks": "",
            "zerolinecolor": "white"
           }
          },
          "shapedefaults": {
           "line": {
            "color": "#2a3f5f"
           }
          },
          "ternary": {
           "aaxis": {
            "gridcolor": "white",
            "linecolor": "white",
            "ticks": ""
           },
           "baxis": {
            "gridcolor": "white",
            "linecolor": "white",
            "ticks": ""
           },
           "bgcolor": "#E5ECF6",
           "caxis": {
            "gridcolor": "white",
            "linecolor": "white",
            "ticks": ""
           }
          },
          "title": {
           "x": 0.05
          },
          "xaxis": {
           "automargin": true,
           "gridcolor": "white",
           "linecolor": "white",
           "ticks": "",
           "title": {
            "standoff": 15
           },
           "zerolinecolor": "white",
           "zerolinewidth": 2
          },
          "yaxis": {
           "automargin": true,
           "gridcolor": "white",
           "linecolor": "white",
           "ticks": "",
           "title": {
            "standoff": 15
           },
           "zerolinecolor": "white",
           "zerolinewidth": 2
          }
         }
        },
        "xaxis": {
         "anchor": "y",
         "domain": [
          0,
          1
         ],
         "title": {
          "text": "x"
         }
        },
        "yaxis": {
         "anchor": "x",
         "domain": [
          0,
          1
         ],
         "title": {
          "text": "y"
         }
        }
       }
      }
     },
     "metadata": {},
     "output_type": "display_data"
    }
   ],
   "source": [
    "import torch\n",
    "import plotly.express as px\n",
    "import pandas as pd\n",
    "x = torch.arange(-5., 5., 0.1) \n",
    "y = torch.sigmoid(x) \n",
    "\n",
    "table = {\n",
    "    \"x\":x.numpy(),\n",
    "    \"y\":y.numpy()\n",
    "}\n",
    "fig =  px.line(pd.DataFrame(table), x=\"x\" ,y=\"y\")\n",
    "fig.show()"
   ]
  },
  {
   "cell_type": "markdown",
   "metadata": {},
   "source": [
    "# TF-IDF"
   ]
  },
  {
   "cell_type": "code",
   "execution_count": 2,
   "metadata": {},
   "outputs": [
    {
     "name": "stdout",
     "output_type": "stream",
     "text": [
      "bag of words（BOW） 词袋模型\n",
      "[[0 1 1 1 0 0 1 0 1]\n",
      " [0 1 0 1 0 2 1 0 1]\n",
      " [1 0 0 0 1 0 1 1 0]\n",
      " [0 1 1 1 0 0 1 0 1]]\n",
      "\n",
      " ------------------------------ \n",
      "\n",
      "TF-IDF 模型\n",
      "[[0.         0.43877674 0.54197657 0.43877674 0.         0.\n",
      "  0.35872874 0.         0.43877674]\n",
      " [0.         0.27230147 0.         0.27230147 0.         0.85322574\n",
      "  0.22262429 0.         0.27230147]\n",
      " [0.55280532 0.         0.         0.         0.55280532 0.\n",
      "  0.28847675 0.55280532 0.        ]\n",
      " [0.         0.43877674 0.54197657 0.43877674 0.         0.\n",
      "  0.35872874 0.         0.43877674]]\n",
      "\n",
      " ------------------------------ \n",
      "\n",
      "TF-IDF 模型\n",
      "[[0.         0.43877674 0.54197657 0.43877674 0.         0.\n",
      "  0.35872874 0.         0.43877674]\n",
      " [0.         0.27230147 0.         0.27230147 0.         0.85322574\n",
      "  0.22262429 0.         0.27230147]\n",
      " [0.55280532 0.         0.         0.         0.55280532 0.\n",
      "  0.28847675 0.55280532 0.        ]\n",
      " [0.         0.43877674 0.54197657 0.43877674 0.         0.\n",
      "  0.35872874 0.         0.43877674]]\n"
     ]
    }
   ],
   "source": [
    "# coding: utf-8\n",
    "\n",
    "\"\"\"\n",
    "TF-IDF 模型：\n",
    "主要思想是，如果某个词或短语在一篇文章中出现的频率TF(Term Frequency，词频)，词频高，\n",
    "    并且在其他文章中很少出现，则认为此词或者短语具有很好的类别区分能力，适合用来分类。\n",
    "公式：\n",
    "* TF-IDF = TF * IDF\n",
    "* TF(t) = (词t在文档中出现的总次数) / (文档的词总数)\n",
    "* IDF = log_e(总文档数/词t出现的文档数)\n",
    "\"\"\"\n",
    "\n",
    "from sklearn.feature_extraction.text import CountVectorizer\n",
    "from sklearn.feature_extraction.text import TfidfTransformer\n",
    "from sklearn.feature_extraction.text import TfidfVectorizer\n",
    "\n",
    "# 语料\n",
    "corpus = [\n",
    "    'This is the first document.',\n",
    "    'This is the second second document.',\n",
    "    'And the third one.',\n",
    "    'Is this the first document?',\n",
    "]\n",
    "\n",
    "\"\"\"\n",
    "计算方式1: 通过手动的进行计算词频\n",
    "\"\"\"\n",
    "# 将文本中的词语转换为词频矩阵\n",
    "cv = CountVectorizer(min_df=1)\n",
    "# 计算个词语出现的次数\n",
    "cv_fit = cv.fit_transform(corpus)\n",
    "print(\"bag of words（BOW） 词袋模型\")\n",
    "print(cv_fit.toarray())\n",
    "\n",
    "print(\"\\n\", \"---\" * 10, \"\\n\")\n",
    "\n",
    "# 计算 IF-IDF的值\n",
    "transformer = TfidfTransformer()\n",
    "# 将词频矩阵 cv_fit 统计成 TF-IDF 值\n",
    "tfidf = transformer.fit_transform(cv_fit)\n",
    "# 查看数据结构 tfidf[i][j] 表示i类文本中 tf-idf 权重\n",
    "print(\"TF-IDF 模型\")\n",
    "print(tfidf.toarray())\n",
    "\n",
    "\n",
    "print(\"\\n\", \"---\" * 10, \"\\n\")\n",
    "\"\"\"\n",
    "计算方式2: 直接通过 文本词料 来计算文本中 tf-idf 权重\n",
    "\"\"\"\n",
    "# 计算 IF-IDF的值\n",
    "transformer = TfidfVectorizer()\n",
    "# 将词频矩阵 cv 统计成 TF-IDF 值\n",
    "tfidf = transformer.fit_transform(corpus)\n",
    "# 查看数据结构 tfidf[i][j] 表示i类文本中的 tf-idf 权重\n",
    "print(\"TF-IDF 模型\")\n",
    "print(tfidf.toarray())"
   ]
  },
  {
   "cell_type": "markdown",
   "metadata": {},
   "source": [
    "# Count Word2Vec"
   ]
  },
  {
   "cell_type": "code",
   "execution_count": 3,
   "metadata": {},
   "outputs": [
    {
     "name": "stdout",
     "output_type": "stream",
     "text": [
      "打印所有的特征名称\n",
      "['and', 'document', 'first', 'is', 'one', 'second', 'the', 'third', 'this']\n",
      "打印整个文本矩阵\n",
      "[[0 1 1 1 0 0 1 0 1]\n",
      " [0 1 0 1 0 2 1 0 1]\n",
      " [1 0 0 0 1 0 1 1 0]\n",
      " [0 1 1 1 0 0 1 0 1]]\n",
      "打印所有的列相加\n",
      "[1 3 2 3 1 2 4 1 3]\n",
      "打印所有的行相加\n",
      "[5 6 4 5]\n"
     ]
    },
    {
     "name": "stderr",
     "output_type": "stream",
     "text": [
      "/opt/homebrew/lib/python3.9/site-packages/sklearn/utils/deprecation.py:87: FutureWarning:\n",
      "\n",
      "Function get_feature_names is deprecated; get_feature_names is deprecated in 1.0 and will be removed in 1.2. Please use get_feature_names_out instead.\n",
      "\n"
     ]
    }
   ],
   "source": [
    "# coding: utf-8\n",
    "\n",
    "\"\"\"\n",
    "词集模型：单词构成的集合，集合自然每个元素都只有一个，也即词集中的每个单词都只有一个\n",
    "词袋模型：在词集的基础上如果一个单词在文档中出现不止一次，统计其出现的次数（频数）\n",
    "\"\"\"\n",
    "\n",
    "from sklearn.feature_extraction.text import CountVectorizer\n",
    "\n",
    "# 语料\n",
    "corpus = [\n",
    "    'This is the first document.',\n",
    "    'This is the second second document.',\n",
    "    'And the third one.',\n",
    "    'Is this the first document?',\n",
    "]\n",
    "\n",
    "# 将文本中的词语转换为词频矩阵\n",
    "cv = CountVectorizer(min_df=1)\n",
    "# 计算个词语出现的次数\n",
    "cv_fit = cv.fit_transform(corpus)\n",
    "\n",
    "# set of words（SOW） 词集模型 - 获取词袋中所有文本关键词\n",
    "print(\"打印所有的特征名称\")\n",
    "print(cv.get_feature_names())\n",
    "\n",
    "# bag of words（BOW） 词袋模型\n",
    "print(\"打印整个文本矩阵\")\n",
    "print(cv_fit.toarray())\n",
    "print(\"打印所有的列相加\")\n",
    "print(cv_fit.toarray().sum(axis=0))\n",
    "print(\"打印所有的行相加\")\n",
    "print(cv_fit.toarray().sum(axis=1))"
   ]
  },
  {
   "cell_type": "code",
   "execution_count": 4,
   "metadata": {},
   "outputs": [
    {
     "name": "stdout",
     "output_type": "stream",
     "text": [
      "打印词汇表: \n",
      " {'me': 0, 'gusta': 1, 'comer': 2, 'en': 3, 'la': 4, 'cafeteria': 5, 'Give': 6, 'it': 7, 'to': 8, 'No': 9, 'creo': 10, 'que': 11, 'sea': 12, 'una': 13, 'buena': 14, 'idea': 15, 'is': 16, 'not': 17, 'a': 18, 'good': 19, 'get': 20, 'lost': 21, 'at': 22, 'Yo': 23, 'si': 24, 'on': 25}\n",
      "bow_vector: \n",
      " tensor([[1., 1., 1., 1., 1., 1., 0., 0., 0., 0., 0., 0., 0., 0., 0., 0., 0., 0.,\n",
      "         0., 0., 0., 0., 0., 0., 0., 0.]])\n",
      "tensor([[-0.8195, -0.5810]], grad_fn=<LogSoftmaxBackward>)\n",
      "训练后 ---: \n",
      " tensor([[-0.1210, -2.1721]], grad_fn=<LogSoftmaxBackward>)\n",
      "训练后 ---: \n",
      " tensor([[-2.7767, -0.0643]], grad_fn=<LogSoftmaxBackward>)\n",
      "tensor([ 0.5004, -0.2738], grad_fn=<SelectBackward>)\n"
     ]
    }
   ],
   "source": [
    "# coding: utf-8\n",
    "\n",
    "import torch\n",
    "import torch.autograd as autograd\n",
    "import torch.nn as nn\n",
    "import torch.nn.functional as F\n",
    "import torch.optim as optim\n",
    "\n",
    "torch.manual_seed(1)\n",
    "\n",
    "\n",
    "data = [(\"me gusta comer en la cafeteria\".split(), \"SPANISH\"),\n",
    "        (\"Give it to me\".split(), \"ENGLISH\"),\n",
    "        (\"No creo que sea una buena idea\".split(), \"SPANISH\"),\n",
    "        (\"No it is not a good idea to get lost at sea\".split(), \"ENGLISH\")]\n",
    "\n",
    "test_data = [(\"Yo creo que si\".split(), \"SPANISH\"),\n",
    "             (\"it is lost on me\".split(), \"ENGLISH\")]\n",
    "\n",
    "label_to_ix = {\"SPANISH\": 0, \"ENGLISH\": 1}\n",
    "\n",
    "\n",
    "# word_to_ix 将词汇表中的每个单词映射到一个唯一的整数，这将成为单词向量袋中的索引\n",
    "word_to_ix = {}\n",
    "for sent, _ in data + test_data:\n",
    "    for word in sent:\n",
    "        if word not in word_to_ix:\n",
    "            word_to_ix[word] = len(word_to_ix)\n",
    "print(\"打印词汇表: \\n\", word_to_ix)\n",
    "\n",
    "# 输入的特征数\n",
    "VOCAB_SIZE = len(word_to_ix)\n",
    "# 输出的结果\n",
    "NUM_LABELS = 2\n",
    "\n",
    "\n",
    "# 继承 nn.Module\n",
    "class BoWClassifier(nn.Module):\n",
    "\n",
    "    def __init__(self, num_labels, vocab_size):\n",
    "        # 调用 nn.Module 的 init 函数。 不要被语法混淆，只是总是在 nn.Module 中做\n",
    "        super(BoWClassifier, self).__init__()\n",
    "\n",
    "        # 定义您将需要的参数。\n",
    "        # 在这种情况下，我们需要A和b，仿射映射的参数。\n",
    "        # Torch定义了nn.Linear()，它提供了仿射图。\n",
    "        # 确保你明白为什么输入维度是 vocab_size，输出是 num_labels！\n",
    "        self.linear = nn.Linear(vocab_size, num_labels)\n",
    "\n",
    "        # NOTE! 非线性日志softmax没有参数！ 所以我们不需要为此担心\n",
    "\n",
    "    def forward(self, bow_vec):\n",
    "        # 通过线性层传递输入，\n",
    "        # 然后通过 log_softmax 传递。（使用对数形式的 softmax 函数）\n",
    "        # 许多非线性和其他功能在 torch.nn.functional 中\n",
    "        # SVM只选自己喜欢的男神，Softmax把所有备胎全部拉出来评分，最后还归一化一下\n",
    "        return F.log_softmax(self.linear(bow_vec), dim=1)\n",
    "\n",
    "\n",
    "def make_bow_vector(sentence, word_to_ix):\n",
    "    vec = torch.zeros(len(word_to_ix))\n",
    "    for word in sentence:\n",
    "        vec[word_to_ix[word]] += 1\n",
    "    # 返回一个有相同数据但大小不同的新的 tensor.（ -1表示其他维度 ）\n",
    "    \"\"\"\n",
    "    # -1 表示自己不确定，让系统来计算\n",
    "    y = x.view(4, 2)\n",
    "    print y\n",
    "    # 输出如下\n",
    "    1.5600 -1.6180\n",
    "    -2.0366  2.7115\n",
    "    0.8415 -1.0103\n",
    "    -0.4793  1.5734\n",
    "    [torch.FloatTensor of size 4x2]\n",
    "    \"\"\"\n",
    "    return vec.view(1, -1)\n",
    "\n",
    "\n",
    "def make_target(label, label_to_ix):\n",
    "    return torch.LongTensor([label_to_ix[label]])\n",
    "\n",
    "\n",
    "model = BoWClassifier(NUM_LABELS, VOCAB_SIZE)\n",
    "\n",
    "# 模型知道它的参数。 下面的第一个输出是A，第二个输出是b。\n",
    "# 只要你在一个模块的 __init__ 函数中将一个组件分配给一个类变量，这是通过该行完成的\n",
    "# self.linear = nn.Linear（...）\n",
    "# 然后通过 Pytorch 开发者的一些 Python 魔法，你的模块（在这种情况下，BoWClassifier）将存储关于 nn.Linear 参数的知识\n",
    "# for param in model.parameters():\n",
    "#     print(\"\\n parameters 参数有: \\n\", param)\n",
    "\n",
    "# 要运行该模型，传入一个BoW variable，但包裹在一个 autograd.Variable 中\n",
    "sample = data[0]\n",
    "# 将文本转化为 Variable 对象\n",
    "bow_vector = make_bow_vector(sample[0], word_to_ix)\n",
    "print(\"bow_vector: \\n\", bow_vector)\n",
    "log_probs = model(autograd.Variable(bow_vector))\n",
    "# 将原始数据从 x ⇒ log (x)，无疑会将原始数据的值域进行一定的收缩。\n",
    "\"\"\"lable目标变量的：最终的分类下所有结果的概率（下面为: SPANISH 和 ENGLISH 的概率分布-暂时还没有定义先后顺序，默认是字母？）\n",
    "Variable containing:\n",
    "-0.8195 -0.5810\n",
    "\"\"\"\n",
    "print(log_probs)\n",
    "\n",
    "\n",
    "# # 在我们训练之前运行测试数据，只是为了看到前后的变化\n",
    "# for instance, label in test_data:\n",
    "#     bow_vec = autograd.Variable(make_bow_vector(instance, word_to_ix))\n",
    "#     log_probs = model(bow_vec)\n",
    "#     print(\"训练前 ---: \\n\", log_probs)\n",
    "\n",
    "# # 打印对应于 \"creo\" 的矩阵列的计算值，用于对比训练后的结果变化\n",
    "# print('model.parameters(): \\n', next(model.parameters())[:, word_to_ix[\"creo\"]])\n",
    "\n",
    "optimizer = optim.SGD(model.parameters(), lr=0.1)\n",
    "loss_function = nn.NLLLoss()\n",
    "\n",
    "# 通常你想多次传递训练数据。\n",
    "# 100比实际的数据集大得多，但真正的数据集不止\n",
    "# 两个实例。通常，5至30个时期是合理的。\n",
    "for epoch in range(100):\n",
    "    for instance, label in data:\n",
    "        # 步骤1.\n",
    "        # 请记住，Pytorch会累积渐变。\n",
    "        # 我们需要在每个实例之前清除它们\n",
    "        model.zero_grad()\n",
    "\n",
    "        # 第2步.\n",
    "        # 制作我们的BOW矢量，并且我们还必须将目标包装在一个\n",
    "        # 作为整数变量\n",
    "        # 例如: 如果目标是西班牙语，那么我们包装整数0.\n",
    "        # 然后，损失函数知道日志概率的第0个元素是对应于西班牙语的日志概率\n",
    "        bow_vec = autograd.Variable(make_bow_vector(instance, word_to_ix))\n",
    "        target = autograd.Variable(make_target(label, label_to_ix))\n",
    "\n",
    "        # 第3步.\n",
    "        # 开始训练模型\n",
    "        log_probs = model(bow_vec)\n",
    "\n",
    "        # 第4步.\n",
    "        # 通过调用optimizer.step（）来计算损失，梯度和更新参数\n",
    "        loss = loss_function(log_probs, target)\n",
    "        loss.backward()\n",
    "        optimizer.step()\n",
    "\n",
    "for instance, label in test_data:\n",
    "    bow_vec = autograd.Variable(make_bow_vector(instance, word_to_ix))\n",
    "    log_probs = model(bow_vec)\n",
    "    print(\"训练后 ---: \\n\", log_probs)\n",
    "\n",
    "# Index corresponding to Spanish goes up, English goes down!\n",
    "print(next(model.parameters())[:, word_to_ix[\"creo\"]])"
   ]
  },
  {
   "cell_type": "code",
   "execution_count": null,
   "metadata": {},
   "outputs": [],
   "source": []
  }
 ],
 "metadata": {
  "interpreter": {
   "hash": "b0fa6594d8f4cbf19f97940f81e996739fb7646882a419484c72d19e05852a7e"
  },
  "kernelspec": {
   "display_name": "Python 3 (ipykernel)",
   "language": "python",
   "name": "python3"
  },
  "language_info": {
   "codemirror_mode": {
    "name": "ipython",
    "version": 3
   },
   "file_extension": ".py",
   "mimetype": "text/x-python",
   "name": "python",
   "nbconvert_exporter": "python",
   "pygments_lexer": "ipython3",
   "version": "3.9.8"
  }
 },
 "nbformat": 4,
 "nbformat_minor": 4
}
