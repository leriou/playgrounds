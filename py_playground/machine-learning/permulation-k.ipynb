{
 "cells": [
  {
   "cell_type": "code",
   "execution_count": 1,
   "metadata": {},
   "outputs": [
    {
     "name": "stdout",
     "output_type": "stream",
     "text": [
      "2314\n"
     ]
    }
   ],
   "source": [
    "class Solution:\n",
    "    def getPermutation(self, n: int, k: int) -> str:\n",
    "        arr = [i for i in range(1, n+1)] \n",
    "        def helper(nums, k) -> str:\n",
    "            totalNum = 1\n",
    "            for i in range(1, len(nums)):\n",
    "                totalNum *= i\n",
    "            for i in range(0, len(nums)):\n",
    "                sum_total = (i+1) * totalNum\n",
    "                sub_total = k - sum_total\n",
    "                if sub_total <= 0:\n",
    "                    new_arr = []\n",
    "                    new_arr += nums[:i]\n",
    "                    new_arr += nums[i+1:]\n",
    "                    return str(nums[i]) + helper(new_arr, k - (i * totalNum))\n",
    "            return \"\"\n",
    "        return helper(arr, k)\n",
    "        \n",
    "m = Solution()\n",
    "print(m.getPermutation(4,9))"
   ]
  },
  {
   "cell_type": "code",
   "execution_count": null,
   "metadata": {},
   "outputs": [],
   "source": []
  }
 ],
 "metadata": {
  "kernelspec": {
   "display_name": "Python 3",
   "language": "python",
   "name": "python3"
  },
  "language_info": {
   "codemirror_mode": {
    "name": "ipython",
    "version": 3
   },
   "file_extension": ".py",
   "mimetype": "text/x-python",
   "name": "python",
   "nbconvert_exporter": "python",
   "pygments_lexer": "ipython3",
   "version": "3.8.5"
  }
 },
 "nbformat": 4,
 "nbformat_minor": 4
}
