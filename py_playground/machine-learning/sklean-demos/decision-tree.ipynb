{
 "cells": [
  {
   "cell_type": "code",
   "execution_count": 3,
   "metadata": {},
   "outputs": [
    {
     "data": {
      "text/plain": [
       "array([1, 0])"
      ]
     },
     "execution_count": 3,
     "metadata": {},
     "output_type": "execute_result"
    }
   ],
   "source": [
    "from sklearn import tree\n",
    "import joblib\n",
    "\n",
    "X = [[0,0,1],\n",
    "     [0,1,1],\n",
    "     [1,0,1],\n",
    "     [1,1,1]]\n",
    "y = [1,0,0,1]\n",
    "clf = tree.DecisionTreeClassifier()\n",
    "clf.fit(X,y)\n",
    "clf.predict([[0,1,0],[0,0,0]])\n",
    "\n",
    "joblib.dump(clf,'decision-tree.pickle') #保存\n",
    "new_model = joblib.load('decision-tree.pickle') #载入\n",
    "new_model.predict([[1,1,0],[1,0,0]])"
   ]
  },
  {
   "cell_type": "code",
   "execution_count": 4,
   "metadata": {},
   "outputs": [
    {
     "data": {
      "text/plain": [
       "['Logger',\n",
       " 'MemorizedResult',\n",
       " 'Memory',\n",
       " 'Parallel',\n",
       " 'PrintTime',\n",
       " '__all__',\n",
       " '__builtins__',\n",
       " '__cached__',\n",
       " '__doc__',\n",
       " '__file__',\n",
       " '__loader__',\n",
       " '__name__',\n",
       " '__package__',\n",
       " '__path__',\n",
       " '__spec__',\n",
       " '__version__',\n",
       " '_deprecated_my_exceptions',\n",
       " '_memmapping_reducer',\n",
       " '_multiprocessing_helpers',\n",
       " '_parallel_backends',\n",
       " '_store_backends',\n",
       " 'backports',\n",
       " 'compressor',\n",
       " 'cpu_count',\n",
       " 'delayed',\n",
       " 'disk',\n",
       " 'dump',\n",
       " 'effective_n_jobs',\n",
       " 'executor',\n",
       " 'externals',\n",
       " 'func_inspect',\n",
       " 'hash',\n",
       " 'hashing',\n",
       " 'load',\n",
       " 'logger',\n",
       " 'memory',\n",
       " 'my_exceptions',\n",
       " 'numpy_pickle',\n",
       " 'numpy_pickle_compat',\n",
       " 'numpy_pickle_utils',\n",
       " 'os',\n",
       " 'parallel',\n",
       " 'parallel_backend',\n",
       " 'pool',\n",
       " 'register_compressor',\n",
       " 'register_parallel_backend',\n",
       " 'register_store_backend',\n",
       " 'wrap_non_picklable_objects']"
      ]
     },
     "execution_count": 4,
     "metadata": {},
     "output_type": "execute_result"
    }
   ],
   "source": [
    "import joblib\n",
    "dir(joblib)"
   ]
  },
  {
   "cell_type": "code",
   "execution_count": null,
   "metadata": {},
   "outputs": [],
   "source": []
  }
 ],
 "metadata": {
  "interpreter": {
   "hash": "b0fa6594d8f4cbf19f97940f81e996739fb7646882a419484c72d19e05852a7e"
  },
  "kernelspec": {
   "display_name": "Python 3 (ipykernel)",
   "language": "python",
   "name": "python3"
  },
  "language_info": {
   "codemirror_mode": {
    "name": "ipython",
    "version": 3
   },
   "file_extension": ".py",
   "mimetype": "text/x-python",
   "name": "python",
   "nbconvert_exporter": "python",
   "pygments_lexer": "ipython3",
   "version": "3.9.8"
  },
  "widgets": {
   "application/vnd.jupyter.widget-state+json": {
    "state": {},
    "version_major": 2,
    "version_minor": 0
   }
  }
 },
 "nbformat": 4,
 "nbformat_minor": 4
}
