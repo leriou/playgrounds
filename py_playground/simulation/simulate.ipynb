{
 "cells": [
  {
   "cell_type": "code",
   "execution_count": 1,
   "id": "6db76970",
   "metadata": {},
   "outputs": [
    {
     "name": "stdout",
     "output_type": "stream",
     "text": [
      "第 100 轮 a -> 953 b -> 1047\n",
      "第 200 轮 a -> 909 b -> 1091\n",
      "第 300 轮 a -> 871 b -> 1129\n",
      "第 400 轮 a -> 806 b -> 1194\n",
      "第 500 轮 a -> 716 b -> 1284\n",
      "第 600 轮 a -> 626 b -> 1374\n",
      "第 700 轮 a -> 581 b -> 1419\n",
      "第 800 轮 a -> 509 b -> 1491\n",
      "第 900 轮 a -> 445 b -> 1555\n",
      "第 1000 轮 a -> 376 b -> 1624\n",
      "第 1100 轮 a -> 333 b -> 1667\n",
      "第 1200 轮 a -> 287 b -> 1713\n",
      "第 1300 轮 a -> 252 b -> 1748\n",
      "第 1400 轮 a -> 258 b -> 1742\n",
      "第 1500 轮 a -> 202 b -> 1798\n",
      "第 1600 轮 a -> 118 b -> 1882\n",
      "第 1700 轮 a -> 60 b -> 1940\n",
      "第 1800 轮 a -> 53 b -> 1947\n"
     ]
    }
   ],
   "source": [
    "import random\n",
    "import numpy as np\n",
    "\n",
    "\"\"\"\n",
    "A 和 B 猜硬币，假设都是正面，A获得3分，都是反面A获得1分\n",
    "其他情况 A减少2分，求B有没有必胜法  （B以 11/30 的概率出正面）\n",
    "\"\"\"\n",
    "\n",
    "# a,b总钱数\n",
    "a,b = 1000,1000\n",
    "\n",
    "rate = 0.36666666666666664\n",
    "idx = 0\n",
    "\n",
    "def a_rand():\n",
    "    return random.random()\n",
    "\n",
    "def b_rand():\n",
    "    if random.random() < rate:\n",
    "        return 0.9\n",
    "    else:\n",
    "        return 0.1\n",
    "\n",
    "while a > 0:\n",
    "    idx += 1\n",
    "    a_score = a_rand()\n",
    "    b_score = b_rand()\n",
    "    if a_score > 0.5 and b_score > 0.5:\n",
    "        a += 3\n",
    "        b -= 3\n",
    "    elif a_score < 0.5 and b_score > 0.5:\n",
    "        a += 1\n",
    "        b -= 1\n",
    "    else:\n",
    "        a -= 2\n",
    "        b += 2\n",
    "    if idx % 100 == 0:\n",
    "        print(\"第 %s 轮 a -> %s b -> %s\" % (str(idx), a, b))"
   ]
  },
  {
   "cell_type": "code",
   "execution_count": 2,
   "id": "18ec479b",
   "metadata": {},
   "outputs": [
    {
     "name": "stdout",
     "output_type": "stream",
     "text": [
      "0.36666666666666664\n"
     ]
    }
   ],
   "source": [
    "print(11/30)"
   ]
  },
  {
   "cell_type": "code",
   "execution_count": 3,
   "id": "25c50bd1",
   "metadata": {},
   "outputs": [
    {
     "name": "stdout",
     "output_type": "stream",
     "text": [
      " a 36343, b 36255 , e 27402\n"
     ]
    }
   ],
   "source": [
    "\n",
    "\"\"\"\n",
    "A 和 B 猜硬币，猜中得1分， A猜11次，B猜10次，求最终A获胜的概率\n",
    "\n",
    "\"\"\"\n",
    "total = 100000\n",
    "\n",
    "a,b,e,a_num,b_num = 0, 0, 0, 4, 4\n",
    "\n",
    "\n",
    "def r():\n",
    "    i = [0]\n",
    "    randoms = np.random.random(9000000)\n",
    "    def cr():\n",
    "        i[0] += 1 \n",
    "        return randoms[i[0]]\n",
    "    return cr\n",
    "t = r()\n",
    "\n",
    "for _ in range(0,total):\n",
    "    a_s = 0\n",
    "    b_s = 0\n",
    "    for _ in range(0,a_num):\n",
    "        if t() > 0.5:\n",
    "            a_s += 1\n",
    "    for _ in range(0,b_num):\n",
    "        if t() > 0.5:\n",
    "            b_s += 1\n",
    "            \n",
    "    if a_s > b_s:\n",
    "        a += 1\n",
    "    elif a_s == b_s:\n",
    "        e += 1\n",
    "    else:\n",
    "        b += 1\n",
    "\n",
    "\n",
    "print(\" a %s, b %s , e %s\" % (a,b,e))"
   ]
  },
  {
   "cell_type": "code",
   "execution_count": 4,
   "id": "0b3b666b",
   "metadata": {},
   "outputs": [
    {
     "name": "stdout",
     "output_type": "stream",
     "text": [
      "time 1 -> 0.10411810874938965\n",
      "time 2 -> 0.1537787914276123\n"
     ]
    }
   ],
   "source": [
    "import random\n",
    "import numpy as np\n",
    "import time\n",
    "\n",
    "total = 1000000\n",
    "\n",
    "s = time.time()\n",
    "\n",
    "def r():\n",
    "    i = [0]\n",
    "    randoms = np.random.random(total)\n",
    "    def cr():\n",
    "        i[0] += 1 \n",
    "        return randoms[i[0]]\n",
    "    return cr\n",
    "t = r()\n",
    "\n",
    "s1 = time.time()\n",
    "idx = 0\n",
    "for _ in range(0, total):\n",
    "    idx += 1\n",
    "    tmp = t\n",
    "\n",
    "s2 = time.time()\n",
    "\n",
    "print(\"time 1 -> %s\" % str(s2-s1))\n",
    "    \n",
    "idx = 0\n",
    "for _ in range(0, total):\n",
    "    idx += 1\n",
    "    tmp = random.random()\n",
    "s3 = time.time()\n",
    "    \n",
    "print(\"time 2 -> %s\" % str(s3-s2))"
   ]
  },
  {
   "cell_type": "code",
   "execution_count": null,
   "id": "dd175917",
   "metadata": {},
   "outputs": [],
   "source": []
  }
 ],
 "metadata": {
  "interpreter": {
   "hash": "31f2aee4e71d21fbe5cf8b01ff0e069b9275f58929596ceb00d14d90e3e16cd6"
  },
  "kernelspec": {
   "display_name": "Python 3 (ipykernel)",
   "language": "python",
   "name": "python3"
  },
  "language_info": {
   "codemirror_mode": {
    "name": "ipython",
    "version": 3
   },
   "file_extension": ".py",
   "mimetype": "text/x-python",
   "name": "python",
   "nbconvert_exporter": "python",
   "pygments_lexer": "ipython3",
   "version": "3.8.9"
  }
 },
 "nbformat": 4,
 "nbformat_minor": 5
}
