{
 "cells": [
  {
   "cell_type": "code",
   "execution_count": 24,
   "id": "accurate-cholesterol",
   "metadata": {},
   "outputs": [
    {
     "name": "stdout",
     "output_type": "stream",
     "text": [
      "第 100 轮 a -> 968 b -> 1032\n",
      "第 200 轮 a -> 924 b -> 1076\n",
      "第 300 轮 a -> 900 b -> 1100\n",
      "第 400 轮 a -> 846 b -> 1154\n",
      "第 500 轮 a -> 808 b -> 1192\n",
      "第 600 轮 a -> 741 b -> 1259\n",
      "第 700 轮 a -> 666 b -> 1334\n",
      "第 800 轮 a -> 626 b -> 1374\n",
      "第 900 轮 a -> 576 b -> 1424\n",
      "第 1000 轮 a -> 538 b -> 1462\n",
      "第 1100 轮 a -> 473 b -> 1527\n",
      "第 1200 轮 a -> 385 b -> 1615\n",
      "第 1300 轮 a -> 366 b -> 1634\n",
      "第 1400 轮 a -> 303 b -> 1697\n",
      "第 1500 轮 a -> 259 b -> 1741\n",
      "第 1600 轮 a -> 188 b -> 1812\n",
      "第 1700 轮 a -> 150 b -> 1850\n",
      "第 1800 轮 a -> 85 b -> 1915\n",
      "第 1900 轮 a -> 22 b -> 1978\n"
     ]
    }
   ],
   "source": [
    "import random\n",
    "import numpy as np\n",
    "\n",
    "\"\"\"\n",
    "A 和 B 猜硬币，假设都是正面，A获得3分，都是反面A获得1分\n",
    "其他情况 A减少2分，求B有没有必胜法  （B以 11/30 的概率出正面）\n",
    "\"\"\"\n",
    "\n",
    "# a,b总钱数\n",
    "a,b = 1000,1000\n",
    "\n",
    "rate = 0.36666666666666664\n",
    "idx = 0\n",
    "\n",
    "def a_rand():\n",
    "    return random.random()\n",
    "\n",
    "def b_rand():\n",
    "    if random.random() < rate:\n",
    "        return 0.9\n",
    "    else:\n",
    "        return 0.1\n",
    "\n",
    "while a > 0:\n",
    "    idx += 1\n",
    "    a_score = a_rand()\n",
    "    b_score = b_rand()\n",
    "    if a_score > 0.5 and b_score > 0.5:\n",
    "        a += 3\n",
    "        b -= 3\n",
    "    elif a_score < 0.5 and b_score > 0.5:\n",
    "        a += 1\n",
    "        b -= 1\n",
    "    else:\n",
    "        a -= 2\n",
    "        b += 2\n",
    "    if idx % 100 == 0:\n",
    "        print(\"第 %s 轮 a -> %s b -> %s\" % (str(idx), a, b))"
   ]
  },
  {
   "cell_type": "code",
   "execution_count": 52,
   "id": "infectious-least",
   "metadata": {},
   "outputs": [
    {
     "name": "stdout",
     "output_type": "stream",
     "text": [
      "0.36666666666666664\n"
     ]
    }
   ],
   "source": [
    "print(11/30)"
   ]
  },
  {
   "cell_type": "code",
   "execution_count": 46,
   "id": "prescription-accommodation",
   "metadata": {},
   "outputs": [
    {
     "name": "stdout",
     "output_type": "stream",
     "text": [
      " a 36339, b 36259 , e 27402\n"
     ]
    }
   ],
   "source": [
    "\n",
    "\"\"\"\n",
    "A 和 B 猜硬币，猜中得1分， A猜11次，B猜10次，求最终A获胜的概率\n",
    "\n",
    "\"\"\"\n",
    "total = 100000\n",
    "\n",
    "a,b,e,a_num,b_num = 0, 0, 0, 4, 4\n",
    "\n",
    "\n",
    "def r():\n",
    "    i = [0]\n",
    "    randoms = np.random.random(9000000)\n",
    "    def cr():\n",
    "        i[0] += 1 \n",
    "        return randoms[i[0]]\n",
    "    return cr\n",
    "t = r()\n",
    "\n",
    "for _ in range(0,total):\n",
    "    a_s = 0\n",
    "    b_s = 0\n",
    "    for _ in range(0,a_num):\n",
    "        if t() > 0.5:\n",
    "            a_s += 1\n",
    "    for _ in range(0,b_num):\n",
    "        if t() > 0.5:\n",
    "            b_s += 1\n",
    "            \n",
    "    if a_s > b_s:\n",
    "        a += 1\n",
    "    elif a_s == b_s:\n",
    "        e += 1\n",
    "    else:\n",
    "        b += 1\n",
    "\n",
    "\n",
    "print(\" a %s, b %s , e %s\" % (a,b,e))"
   ]
  },
  {
   "cell_type": "code",
   "execution_count": null,
   "id": "illegal-formula",
   "metadata": {},
   "outputs": [],
   "source": []
  },
  {
   "cell_type": "code",
   "execution_count": null,
   "id": "missing-tenant",
   "metadata": {},
   "outputs": [],
   "source": []
  },
  {
   "cell_type": "code",
   "execution_count": null,
   "id": "varied-lucas",
   "metadata": {},
   "outputs": [],
   "source": []
  }
 ],
 "metadata": {
  "kernelspec": {
   "display_name": "Python 3",
   "language": "python",
   "name": "python3"
  },
  "language_info": {
   "codemirror_mode": {
    "name": "ipython",
    "version": 3
   },
   "file_extension": ".py",
   "mimetype": "text/x-python",
   "name": "python",
   "nbconvert_exporter": "python",
   "pygments_lexer": "ipython3",
   "version": "3.8.6"
  }
 },
 "nbformat": 4,
 "nbformat_minor": 5
}
