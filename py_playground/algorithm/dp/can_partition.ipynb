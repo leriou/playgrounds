{
 "metadata": {
  "language_info": {
   "codemirror_mode": {
    "name": "ipython",
    "version": 3
   },
   "file_extension": ".py",
   "mimetype": "text/x-python",
   "name": "python",
   "nbconvert_exporter": "python",
   "pygments_lexer": "ipython3",
   "version": "3.8.5-final"
  },
  "orig_nbformat": 2,
  "kernelspec": {
   "name": "python3",
   "display_name": "Python 3"
  }
 },
 "nbformat": 4,
 "nbformat_minor": 2,
 "cells": [
  {
   "cell_type": "code",
   "execution_count": 16,
   "metadata": {},
   "outputs": [
    {
     "output_type": "stream",
     "name": "stdout",
     "text": [
      "True\n"
     ]
    }
   ],
   "source": [
    "def can_partition(nums):\n",
    "    sum_num = sum(nums)\n",
    "    if sum_num % 2 == 1: return False\n",
    "    sum_num >>= 1\n",
    "    n, dp = len(nums), [True] + [False] * sum_num\n",
    "    for i in range(0, n):\n",
    "        for j in range(sum_num, -1, -1):\n",
    "            if j >= nums[i]: \n",
    "                if not dp[j]:\n",
    "                    dp[j] = dp[j - nums[i]]\n",
    "    return dp[sum_num]\n",
    "\n",
    "print(can_partition([2,3,5]))\n",
    "    "
   ]
  },
  {
   "cell_type": "code",
   "execution_count": 23,
   "metadata": {},
   "outputs": [
    {
     "output_type": "stream",
     "name": "stdout",
     "text": [
      "False\n"
     ]
    }
   ],
   "source": [
    "def partition(nums, target):\n",
    "    dp = [True] + [False] * target\n",
    "    for i in range(0, len(nums)):\n",
    "        for j in range(target, -1, -1):\n",
    "            if j >= nums[i]:\n",
    "                if not dp[j]:\n",
    "                    dp[j] = dp[j - nums[i]]\n",
    "    return dp[target]\n",
    "\n",
    "print(partition([3,3,3],7))"
   ]
  },
  {
   "cell_type": "code",
   "execution_count": null,
   "metadata": {},
   "outputs": [],
   "source": []
  }
 ]
}