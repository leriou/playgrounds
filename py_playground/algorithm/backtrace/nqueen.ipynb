{
 "cells": [
  {
   "cell_type": "code",
   "execution_count": 4,
   "metadata": {
    "tags": []
   },
   "outputs": [
    {
     "data": {
      "text/plain": [
       "[['Q....', '..Q..', '....Q', '.Q...', '...Q.'],\n",
       " ['Q....', '...Q.', '.Q...', '....Q', '..Q..'],\n",
       " ['.Q...', '...Q.', 'Q....', '..Q..', '....Q'],\n",
       " ['.Q...', '....Q', '..Q..', 'Q....', '...Q.'],\n",
       " ['..Q..', 'Q....', '...Q.', '.Q...', '....Q'],\n",
       " ['..Q..', '....Q', '.Q...', '...Q.', 'Q....'],\n",
       " ['...Q.', 'Q....', '..Q..', '....Q', '.Q...'],\n",
       " ['...Q.', '.Q...', '....Q', '..Q..', 'Q....'],\n",
       " ['....Q', '.Q...', '...Q.', 'Q....', '..Q..'],\n",
       " ['....Q', '..Q..', 'Q....', '...Q.', '.Q...']]"
      ]
     },
     "execution_count": 4,
     "metadata": {},
     "output_type": "execute_result"
    }
   ],
   "source": [
    "class Nqueen:\n",
    "\n",
    "    N = 5\n",
    "    maze = []\n",
    "    ans = []\n",
    "\n",
    "    def run(self):\n",
    "        self.maze = [[\".\" for i in range(0,self.N)] for j in range(0, self.N)]\n",
    "        self.trail(0)\n",
    "        return self.ans\n",
    "    \n",
    "    def trail(self, n):\n",
    "        if n >= self.N:\n",
    "            self.ans.append([\"\".join(i) for i in self.maze])\n",
    "        else:\n",
    "            for i in range(0, self.N):\n",
    "                self.maze[n][i] = \"Q\"\n",
    "                if self.is_valid(n, i):\n",
    "                    self.trail(n+1)\n",
    "                self.maze[n][i] = \".\"\n",
    "    \n",
    "    def is_valid(self,x, y):\n",
    "        for i in range(0, x):\n",
    "            for j in range(0, self.N):\n",
    "                if (y == j) or (abs(x-i) == abs(y-j)) or (x+y) == (i+j): \n",
    "                    if self.maze[i][j] == \"Q\":\n",
    "                        return False    \n",
    "        return True\n",
    "\n",
    "\n",
    "Nqueen().run()"
   ]
  },
  {
   "cell_type": "code",
   "execution_count": null,
   "metadata": {},
   "outputs": [],
   "source": []
  }
 ],
 "metadata": {
  "kernelspec": {
   "display_name": "Python 3.9.12 64-bit",
   "language": "python",
   "name": "python3"
  },
  "language_info": {
   "codemirror_mode": {
    "name": "ipython",
    "version": 3
   },
   "file_extension": ".py",
   "mimetype": "text/x-python",
   "name": "python",
   "nbconvert_exporter": "python",
   "pygments_lexer": "ipython3",
   "version": "3.9.13"
  },
  "vscode": {
   "interpreter": {
    "hash": "b0fa6594d8f4cbf19f97940f81e996739fb7646882a419484c72d19e05852a7e"
   }
  }
 },
 "nbformat": 4,
 "nbformat_minor": 4
}
