{
 "cells": [
  {
   "cell_type": "code",
   "execution_count": 2,
   "metadata": {},
   "outputs": [
    {
     "data": {
      "text/plain": [
       "True"
      ]
     },
     "execution_count": 2,
     "metadata": {},
     "output_type": "execute_result"
    }
   ],
   "source": [
    "from typing import List\n",
    "class Solution:\n",
    "    def judgePoint24(self, nums: List[int]) -> bool:\n",
    "        TARGET = 24\n",
    "        EPSILON = 1e-6\n",
    "        ADD, MULTIPLY, SUBTRACT, DIVIDE = 0, 1, 2, 3\n",
    "        def solve(nums: List[float]) -> bool:\n",
    "            if not nums:\n",
    "                return False\n",
    "            if len(nums) == 1:\n",
    "                return abs(nums[0] - TARGET) < EPSILON\n",
    "            for i, x in enumerate(nums):\n",
    "                for j, y in enumerate(nums):\n",
    "                    if i != j:\n",
    "                        newNums = [n for m,n in enumerate(nums) if m != i and m != j]\n",
    "                        for k in range(4):\n",
    "                            if k < 2 and i > j:\n",
    "                                continue\n",
    "                            if k == ADD:\n",
    "                                newNums.append(x + y)\n",
    "                            elif k == MULTIPLY:\n",
    "                                newNums.append(x * y)\n",
    "                            elif k == SUBTRACT:\n",
    "                                newNums.append(x - y)\n",
    "                            elif k == DIVIDE:\n",
    "                                if abs(y) < EPSILON:\n",
    "                                    continue\n",
    "                                newNums.append(x / y)\n",
    "                            if solve(newNums):\n",
    "                                return True\n",
    "                            newNums.pop()\n",
    "            return False\n",
    "        return solve(nums)\n",
    "\n",
    "\n",
    "m = Solution()\n",
    "m.judgePoint24([7,8,1,4])"
   ]
  },
  {
   "cell_type": "code",
   "execution_count": null,
   "metadata": {},
   "outputs": [],
   "source": []
  }
 ],
 "metadata": {
  "kernelspec": {
   "display_name": "Python 3.8.5 64-bit",
   "language": "python",
   "name": "python38564bit0059ef4a018941ef91eba633403c408b"
  },
  "language_info": {
   "codemirror_mode": {
    "name": "ipython",
    "version": 3
   },
   "file_extension": ".py",
   "mimetype": "text/x-python",
   "name": "python",
   "nbconvert_exporter": "python",
   "pygments_lexer": "ipython3",
   "version": "3.8.5"
  }
 },
 "nbformat": 4,
 "nbformat_minor": 4
}
