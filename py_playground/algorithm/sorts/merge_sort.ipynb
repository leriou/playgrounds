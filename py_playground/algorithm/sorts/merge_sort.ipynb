{
 "cells": [
  {
   "cell_type": "code",
   "execution_count": 1,
   "metadata": {},
   "outputs": [
    {
     "output_type": "stream",
     "name": "stdout",
     "text": [
      "[0, 1, 5, 6, 7, 8]\n"
     ]
    }
   ],
   "source": [
    "def sort(arr):\n",
    "    if len(arr) <= 1:\n",
    "        return arr\n",
    "    mid = len(arr) >> 1\n",
    "    l = sort(arr[:mid])\n",
    "    r = sort(arr[mid:])\n",
    "    return merge(l, r)\n",
    "\n",
    "def merge(a, b):\n",
    "    m,n,x,y = len(a),len(b),0,0\n",
    "    t = []\n",
    "    while x < m and y < n:\n",
    "        if a[x] < b[y]:\n",
    "            t.append(a[x])\n",
    "            x+=1\n",
    "        else:\n",
    "            t.append(b[y])\n",
    "            y+=1\n",
    "    if x < m:\n",
    "        [t.append(i)  for i in a[x:]]\n",
    "    if y < n:\n",
    "        [t.append(i)  for i in b[y:]]\n",
    "    return t\n",
    "    \n",
    "print(sort([8,7,5,0,1,6]))"
   ]
  },
  {
   "cell_type": "code",
   "execution_count": null,
   "metadata": {},
   "outputs": [],
   "source": []
  }
 ],
 "metadata": {
  "kernelspec": {
   "name": "python3",
   "display_name": "Python 3.8.9 64-bit"
  },
  "language_info": {
   "codemirror_mode": {
    "name": "ipython",
    "version": 3
   },
   "file_extension": ".py",
   "mimetype": "text/x-python",
   "name": "python",
   "nbconvert_exporter": "python",
   "pygments_lexer": "ipython3",
   "version": "3.8.9"
  },
  "interpreter": {
   "hash": "31f2aee4e71d21fbe5cf8b01ff0e069b9275f58929596ceb00d14d90e3e16cd6"
  }
 },
 "nbformat": 4,
 "nbformat_minor": 4
}