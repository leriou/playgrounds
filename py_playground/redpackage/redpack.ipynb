{
 "metadata": {
  "language_info": {
   "codemirror_mode": {
    "name": "ipython",
    "version": 3
   },
   "file_extension": ".py",
   "mimetype": "text/x-python",
   "name": "python",
   "nbconvert_exporter": "python",
   "pygments_lexer": "ipython3",
   "version": "3.8.5-final"
  },
  "orig_nbformat": 2,
  "kernelspec": {
   "name": "python38564bit0059ef4a018941ef91eba633403c408b",
   "display_name": "Python 3.8.5 64-bit"
  }
 },
 "nbformat": 4,
 "nbformat_minor": 2,
 "cells": [
  {
   "cell_type": "code",
   "execution_count": 1,
   "metadata": {
    "tags": []
   },
   "outputs": [
    {
     "output_type": "stream",
     "name": "stdout",
     "text": "[5.53, 11.32, 6.53, 22.95, 13.52, 6.83, 5.4, 13.48, 7.86, 6.58]\n"
    }
   ],
   "source": [
    "import random\n",
    "\n",
    "\n",
    "def gen_red_package(amount, num, min_size, max_size):\n",
    "    amount = amount * 100\n",
    "    lines = [0, amount]\n",
    "    # 生成num-1个符合要求的随机的点\n",
    "    for i in range(0, num-1):\n",
    "        loop = True\n",
    "        while loop:\n",
    "            r = random.Random().randint(0, amount)\n",
    "            loop = not is_valid(lines, r, min_size * 100, max_size * 100)\n",
    "    paks = []\n",
    "    for j in range(0, len(lines) - 1):\n",
    "        paks.append((lines[j+1] - lines[j])/100)\n",
    "    return paks\n",
    "\n",
    "\n",
    "def is_valid(arr, value, min_size, max_size):\n",
    "    if arr.__contains__(value):\n",
    "        return False\n",
    "    arr.append(value)\n",
    "    arr.sort()\n",
    "    curr = arr.index(value)\n",
    "    l = arr[max(0, curr - 1)]\n",
    "    r = arr[min(curr + 1, len(arr) - 1)]\n",
    "    dl = value - l\n",
    "    dr = r - value\n",
    "    if dl >= min_size and dr >= min_size and dl <= max_size and dr <= max_size:\n",
    "        return True\n",
    "    arr.remove(value)\n",
    "    return False\n",
    "\n",
    "\n",
    "print(gen_red_package(100, 10, 5, 90))"
   ]
  },
  {
   "cell_type": "code",
   "execution_count": null,
   "metadata": {},
   "outputs": [],
   "source": []
  }
 ]
}